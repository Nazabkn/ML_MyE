{
 "cells": [
  {
   "cell_type": "code",
   "execution_count": 63,
   "id": "2430be98-1603-489b-b6a8-c2b3e1ab978e",
   "metadata": {},
   "outputs": [
    {
     "name": "stdout",
     "output_type": "stream",
     "text": [
      "The kedro.ipython extension is already loaded. To reload it, use:\n",
      "  %reload_ext kedro.ipython\n"
     ]
    },
    {
     "data": {
      "text/html": [
       "<pre style=\"white-space:pre;overflow-x:auto;line-height:normal;font-family:Menlo,'DejaVu Sans Mono',consolas,'Courier New',monospace\"><span style=\"color: #7fbfbf; text-decoration-color: #7fbfbf\">[09/14/25 21:03:18] </span><span style=\"color: #000080; text-decoration-color: #000080\">INFO    </span> Kedro is sending anonymous usage data with the sole purpose of improving <a href=\"file://C:\\ML\\spaceflights\\.venv\\Lib\\site-packages\\kedro_telemetry\\plugin.py\" target=\"_blank\"><span style=\"color: #7f7f7f; text-decoration-color: #7f7f7f\">plugin.py</span></a><span style=\"color: #7f7f7f; text-decoration-color: #7f7f7f\">:</span><a href=\"file://C:\\ML\\spaceflights\\.venv\\Lib\\site-packages\\kedro_telemetry\\plugin.py#243\" target=\"_blank\"><span style=\"color: #7f7f7f; text-decoration-color: #7f7f7f\">243</span></a>\n",
       "<span style=\"color: #7fbfbf; text-decoration-color: #7fbfbf\">                    </span>         the product. No personal data or IP addresses are stored on our side. To <span style=\"color: #7f7f7f; text-decoration-color: #7f7f7f\">             </span>\n",
       "<span style=\"color: #7fbfbf; text-decoration-color: #7fbfbf\">                    </span>         opt out, set the `KEDRO_DISABLE_TELEMETRY` or `DO_NOT_TRACK` environment <span style=\"color: #7f7f7f; text-decoration-color: #7f7f7f\">             </span>\n",
       "<span style=\"color: #7fbfbf; text-decoration-color: #7fbfbf\">                    </span>         variables, or create a `.telemetry` file in the current working          <span style=\"color: #7f7f7f; text-decoration-color: #7f7f7f\">             </span>\n",
       "<span style=\"color: #7fbfbf; text-decoration-color: #7fbfbf\">                    </span>         directory with the contents `consent: false`. To hide this message,      <span style=\"color: #7f7f7f; text-decoration-color: #7f7f7f\">             </span>\n",
       "<span style=\"color: #7fbfbf; text-decoration-color: #7fbfbf\">                    </span>         explicitly grant or deny consent. Read more at                           <span style=\"color: #7f7f7f; text-decoration-color: #7f7f7f\">             </span>\n",
       "<span style=\"color: #7fbfbf; text-decoration-color: #7fbfbf\">                    </span>         <span style=\"color: #0000ff; text-decoration-color: #0000ff; text-decoration: underline\">https://docs.kedro.org/en/stable/configuration/telemetry.html</span>            <span style=\"color: #7f7f7f; text-decoration-color: #7f7f7f\">             </span>\n",
       "</pre>\n"
      ],
      "text/plain": [
       "\u001b[2;36m[09/14/25 21:03:18]\u001b[0m\u001b[2;36m \u001b[0m\u001b[34mINFO    \u001b[0m Kedro is sending anonymous usage data with the sole purpose of improving \u001b]8;id=608946;file://C:\\ML\\spaceflights\\.venv\\Lib\\site-packages\\kedro_telemetry\\plugin.py\u001b\\\u001b[2mplugin.py\u001b[0m\u001b]8;;\u001b\\\u001b[2m:\u001b[0m\u001b]8;id=591095;file://C:\\ML\\spaceflights\\.venv\\Lib\\site-packages\\kedro_telemetry\\plugin.py#243\u001b\\\u001b[2m243\u001b[0m\u001b]8;;\u001b\\\n",
       "\u001b[2;36m                    \u001b[0m         the product. No personal data or IP addresses are stored on our side. To \u001b[2m             \u001b[0m\n",
       "\u001b[2;36m                    \u001b[0m         opt out, set the `KEDRO_DISABLE_TELEMETRY` or `DO_NOT_TRACK` environment \u001b[2m             \u001b[0m\n",
       "\u001b[2;36m                    \u001b[0m         variables, or create a `.telemetry` file in the current working          \u001b[2m             \u001b[0m\n",
       "\u001b[2;36m                    \u001b[0m         directory with the contents `consent: false`. To hide this message,      \u001b[2m             \u001b[0m\n",
       "\u001b[2;36m                    \u001b[0m         explicitly grant or deny consent. Read more at                           \u001b[2m             \u001b[0m\n",
       "\u001b[2;36m                    \u001b[0m         \u001b[4;94mhttps://docs.kedro.org/en/stable/configuration/telemetry.html\u001b[0m            \u001b[2m             \u001b[0m\n"
      ]
     },
     "metadata": {},
     "output_type": "display_data"
    },
    {
     "data": {
      "text/html": [
       "<pre style=\"white-space:pre;overflow-x:auto;line-height:normal;font-family:Menlo,'DejaVu Sans Mono',consolas,'Courier New',monospace\"><span style=\"color: #7fbfbf; text-decoration-color: #7fbfbf\">[09/14/25 21:03:20] </span><span style=\"color: #000080; text-decoration-color: #000080\">INFO    </span> Kedro project spaceflights                                             <a href=\"file://C:\\ML\\spaceflights\\.venv\\Lib\\site-packages\\kedro\\ipython\\__init__.py\" target=\"_blank\"><span style=\"color: #7f7f7f; text-decoration-color: #7f7f7f\">__init__.py</span></a><span style=\"color: #7f7f7f; text-decoration-color: #7f7f7f\">:</span><a href=\"file://C:\\ML\\spaceflights\\.venv\\Lib\\site-packages\\kedro\\ipython\\__init__.py#146\" target=\"_blank\"><span style=\"color: #7f7f7f; text-decoration-color: #7f7f7f\">146</span></a>\n",
       "</pre>\n"
      ],
      "text/plain": [
       "\u001b[2;36m[09/14/25 21:03:20]\u001b[0m\u001b[2;36m \u001b[0m\u001b[34mINFO    \u001b[0m Kedro project spaceflights                                             \u001b]8;id=520538;file://C:\\ML\\spaceflights\\.venv\\Lib\\site-packages\\kedro\\ipython\\__init__.py\u001b\\\u001b[2m__init__.py\u001b[0m\u001b]8;;\u001b\\\u001b[2m:\u001b[0m\u001b]8;id=780157;file://C:\\ML\\spaceflights\\.venv\\Lib\\site-packages\\kedro\\ipython\\__init__.py#146\u001b\\\u001b[2m146\u001b[0m\u001b]8;;\u001b\\\n"
      ]
     },
     "metadata": {},
     "output_type": "display_data"
    },
    {
     "data": {
      "text/html": [
       "<pre style=\"white-space:pre;overflow-x:auto;line-height:normal;font-family:Menlo,'DejaVu Sans Mono',consolas,'Courier New',monospace\"><span style=\"color: #7fbfbf; text-decoration-color: #7fbfbf\">                    </span><span style=\"color: #000080; text-decoration-color: #000080\">INFO    </span> Defined global variable <span style=\"color: #008000; text-decoration-color: #008000\">'context'</span>, <span style=\"color: #008000; text-decoration-color: #008000\">'session'</span>, <span style=\"color: #008000; text-decoration-color: #008000\">'catalog'</span> and            <a href=\"file://C:\\ML\\spaceflights\\.venv\\Lib\\site-packages\\kedro\\ipython\\__init__.py\" target=\"_blank\"><span style=\"color: #7f7f7f; text-decoration-color: #7f7f7f\">__init__.py</span></a><span style=\"color: #7f7f7f; text-decoration-color: #7f7f7f\">:</span><a href=\"file://C:\\ML\\spaceflights\\.venv\\Lib\\site-packages\\kedro\\ipython\\__init__.py#147\" target=\"_blank\"><span style=\"color: #7f7f7f; text-decoration-color: #7f7f7f\">147</span></a>\n",
       "<span style=\"color: #7fbfbf; text-decoration-color: #7fbfbf\">                    </span>         <span style=\"color: #008000; text-decoration-color: #008000\">'pipelines'</span>                                                            <span style=\"color: #7f7f7f; text-decoration-color: #7f7f7f\">               </span>\n",
       "</pre>\n"
      ],
      "text/plain": [
       "\u001b[2;36m                   \u001b[0m\u001b[2;36m \u001b[0m\u001b[34mINFO    \u001b[0m Defined global variable \u001b[32m'context'\u001b[0m, \u001b[32m'session'\u001b[0m, \u001b[32m'catalog'\u001b[0m and            \u001b]8;id=739655;file://C:\\ML\\spaceflights\\.venv\\Lib\\site-packages\\kedro\\ipython\\__init__.py\u001b\\\u001b[2m__init__.py\u001b[0m\u001b]8;;\u001b\\\u001b[2m:\u001b[0m\u001b]8;id=950065;file://C:\\ML\\spaceflights\\.venv\\Lib\\site-packages\\kedro\\ipython\\__init__.py#147\u001b\\\u001b[2m147\u001b[0m\u001b]8;;\u001b\\\n",
       "\u001b[2;36m                    \u001b[0m         \u001b[32m'pipelines'\u001b[0m                                                            \u001b[2m               \u001b[0m\n"
      ]
     },
     "metadata": {},
     "output_type": "display_data"
    },
    {
     "data": {
      "text/html": [
       "<pre style=\"white-space:pre;overflow-x:auto;line-height:normal;font-family:Menlo,'DejaVu Sans Mono',consolas,'Courier New',monospace\"><span style=\"color: #7fbfbf; text-decoration-color: #7fbfbf\">                    </span><span style=\"color: #000080; text-decoration-color: #000080\">INFO    </span> Registered line magic <span style=\"color: #008000; text-decoration-color: #008000\">'run_viz'</span>                                        <a href=\"file://C:\\ML\\spaceflights\\.venv\\Lib\\site-packages\\kedro\\ipython\\__init__.py\" target=\"_blank\"><span style=\"color: #7f7f7f; text-decoration-color: #7f7f7f\">__init__.py</span></a><span style=\"color: #7f7f7f; text-decoration-color: #7f7f7f\">:</span><a href=\"file://C:\\ML\\spaceflights\\.venv\\Lib\\site-packages\\kedro\\ipython\\__init__.py#153\" target=\"_blank\"><span style=\"color: #7f7f7f; text-decoration-color: #7f7f7f\">153</span></a>\n",
       "</pre>\n"
      ],
      "text/plain": [
       "\u001b[2;36m                   \u001b[0m\u001b[2;36m \u001b[0m\u001b[34mINFO    \u001b[0m Registered line magic \u001b[32m'run_viz'\u001b[0m                                        \u001b]8;id=155589;file://C:\\ML\\spaceflights\\.venv\\Lib\\site-packages\\kedro\\ipython\\__init__.py\u001b\\\u001b[2m__init__.py\u001b[0m\u001b]8;;\u001b\\\u001b[2m:\u001b[0m\u001b]8;id=52514;file://C:\\ML\\spaceflights\\.venv\\Lib\\site-packages\\kedro\\ipython\\__init__.py#153\u001b\\\u001b[2m153\u001b[0m\u001b]8;;\u001b\\\n"
      ]
     },
     "metadata": {},
     "output_type": "display_data"
    }
   ],
   "source": [
    "%load_ext kedro.ipython\n",
    "%reload_kedro C:\\ML\\spaceflights\n"
   ]
  },
  {
   "cell_type": "code",
   "execution_count": 3,
   "id": "997b848a-487f-4063-a188-2f1fa66eead4",
   "metadata": {},
   "outputs": [],
   "source": [
    "import pandas as pd\n",
    "import numpy as np"
   ]
  },
  {
   "cell_type": "code",
   "execution_count": 4,
   "id": "714d135b-15fe-4fde-9654-320f83d404a8",
   "metadata": {
    "collapsed": true,
    "jupyter": {
     "outputs_hidden": true,
     "source_hidden": true
    },
    "scrolled": true
   },
   "outputs": [
    {
     "data": {
      "text/html": [
       "<pre style=\"white-space:pre;overflow-x:auto;line-height:normal;font-family:Menlo,'DejaVu Sans Mono',consolas,'Courier New',monospace\"><span style=\"color: #7fbfbf; text-decoration-color: #7fbfbf\">[09/14/25 13:25:03] </span><span style=\"color: #000080; text-decoration-color: #000080\">INFO    </span> Loading data from <span style=\"color: #ff8700; text-decoration-color: #ff8700\">meteorite_landings</span> <span style=\"font-weight: bold\">(</span>ParquetDataset<span style=\"font-weight: bold\">)</span><span style=\"color: #808000; text-decoration-color: #808000\">...</span>           <a href=\"file://C:\\ML\\spaceflights\\.venv\\Lib\\site-packages\\kedro\\io\\data_catalog.py\" target=\"_blank\"><span style=\"color: #7f7f7f; text-decoration-color: #7f7f7f\">data_catalog.py</span></a><span style=\"color: #7f7f7f; text-decoration-color: #7f7f7f\">:</span><a href=\"file://C:\\ML\\spaceflights\\.venv\\Lib\\site-packages\\kedro\\io\\data_catalog.py#403\" target=\"_blank\"><span style=\"color: #7f7f7f; text-decoration-color: #7f7f7f\">403</span></a>\n",
       "</pre>\n"
      ],
      "text/plain": [
       "\u001b[2;36m[09/14/25 13:25:03]\u001b[0m\u001b[2;36m \u001b[0m\u001b[34mINFO    \u001b[0m Loading data from \u001b[38;5;208mmeteorite_landings\u001b[0m \u001b[1m(\u001b[0mParquetDataset\u001b[1m)\u001b[0m\u001b[33m...\u001b[0m           \u001b]8;id=368733;file://C:\\ML\\spaceflights\\.venv\\Lib\\site-packages\\kedro\\io\\data_catalog.py\u001b\\\u001b[2mdata_catalog.py\u001b[0m\u001b]8;;\u001b\\\u001b[2m:\u001b[0m\u001b]8;id=578427;file://C:\\ML\\spaceflights\\.venv\\Lib\\site-packages\\kedro\\io\\data_catalog.py#403\u001b\\\u001b[2m403\u001b[0m\u001b]8;;\u001b\\\n"
      ]
     },
     "metadata": {},
     "output_type": "display_data"
    },
    {
     "data": {
      "text/html": [
       "<pre style=\"white-space:pre;overflow-x:auto;line-height:normal;font-family:Menlo,'DejaVu Sans Mono',consolas,'Courier New',monospace\"><span style=\"color: #7fbfbf; text-decoration-color: #7fbfbf\">                    </span><span style=\"color: #000080; text-decoration-color: #000080\">INFO    </span> Loading data from <span style=\"color: #ff8700; text-decoration-color: #ff8700\">neo</span> <span style=\"font-weight: bold\">(</span>ParquetDataset<span style=\"font-weight: bold\">)</span><span style=\"color: #808000; text-decoration-color: #808000\">...</span>                          <a href=\"file://C:\\ML\\spaceflights\\.venv\\Lib\\site-packages\\kedro\\io\\data_catalog.py\" target=\"_blank\"><span style=\"color: #7f7f7f; text-decoration-color: #7f7f7f\">data_catalog.py</span></a><span style=\"color: #7f7f7f; text-decoration-color: #7f7f7f\">:</span><a href=\"file://C:\\ML\\spaceflights\\.venv\\Lib\\site-packages\\kedro\\io\\data_catalog.py#403\" target=\"_blank\"><span style=\"color: #7f7f7f; text-decoration-color: #7f7f7f\">403</span></a>\n",
       "</pre>\n"
      ],
      "text/plain": [
       "\u001b[2;36m                   \u001b[0m\u001b[2;36m \u001b[0m\u001b[34mINFO    \u001b[0m Loading data from \u001b[38;5;208mneo\u001b[0m \u001b[1m(\u001b[0mParquetDataset\u001b[1m)\u001b[0m\u001b[33m...\u001b[0m                          \u001b]8;id=269975;file://C:\\ML\\spaceflights\\.venv\\Lib\\site-packages\\kedro\\io\\data_catalog.py\u001b\\\u001b[2mdata_catalog.py\u001b[0m\u001b]8;;\u001b\\\u001b[2m:\u001b[0m\u001b]8;id=390776;file://C:\\ML\\spaceflights\\.venv\\Lib\\site-packages\\kedro\\io\\data_catalog.py#403\u001b\\\u001b[2m403\u001b[0m\u001b]8;;\u001b\\\n"
      ]
     },
     "metadata": {},
     "output_type": "display_data"
    },
    {
     "name": "stdout",
     "output_type": "stream",
     "text": [
      "meteorite_landings: (45716, 10)\n",
      "neo: (90836, 10)\n"
     ]
    },
    {
     "data": {
      "text/html": [
       "<pre style=\"white-space:pre;overflow-x:auto;line-height:normal;font-family:Menlo,'DejaVu Sans Mono',consolas,'Courier New',monospace\"></pre>\n"
      ],
      "text/plain": []
     },
     "metadata": {},
     "output_type": "display_data"
    },
    {
     "data": {
      "text/plain": [
       "\n",
       "\u001b[1m(\u001b[0m\n",
       "         name  id nametype recclass      mass  fall    year    reclat    reclong  \\\n",
       "\u001b[1;36m0\u001b[0m  Aachen   \u001b[1;36m1\u001b[0m    Valid       L5      \u001b[1;36m21.0\u001b[0m  Fell  \u001b[1;36m1880.0\u001b[0m  \u001b[1;36m50.77500\u001b[0m    \u001b[1;36m6.08333\u001b[0m   \n",
       "\u001b[1;36m1\u001b[0m  Aarhus   \u001b[1;36m2\u001b[0m    Valid       H6     \u001b[1;36m720.0\u001b[0m  Fell  \u001b[1;36m1951.0\u001b[0m  \u001b[1;36m56.18333\u001b[0m   \u001b[1;36m10.23333\u001b[0m   \n",
       "\u001b[1;36m2\u001b[0m    Abee   \u001b[1;36m6\u001b[0m    Valid      EH4  \u001b[1;36m107000.0\u001b[0m  Fell  \u001b[1;36m1952.0\u001b[0m  \u001b[1;36m54.21667\u001b[0m \u001b[1;36m-113.00000\u001b[0m   \n",
       "\n",
       "                GeoLocation  \n",
       "\u001b[1;36m0\u001b[0m     \u001b[1m(\u001b[0m\u001b[1;36m50.775000\u001b[0m, \u001b[1;36m6.083330\u001b[0m\u001b[1m)\u001b[0m  \n",
       "\u001b[1;36m1\u001b[0m    \u001b[1m(\u001b[0m\u001b[1;36m56.183330\u001b[0m, \u001b[1;36m10.233330\u001b[0m\u001b[1m)\u001b[0m  \n",
       "\u001b[1;36m2\u001b[0m  \u001b[1m(\u001b[0m\u001b[1;36m54.216670\u001b[0m, \u001b[1;36m-113.000000\u001b[0m\u001b[1m)\u001b[0m  ,\n",
       "            id                 name  est_diameter_min  est_diameter_max  \\\n",
       "\u001b[1;36m0\u001b[0m  \u001b[1;36m2162635\u001b[0m  \u001b[1;36m162635\u001b[0m \u001b[1m(\u001b[0m\u001b[1;36m2000\u001b[0m SS164\u001b[1m)\u001b[0m          \u001b[1;36m1.198271\u001b[0m          \u001b[1;36m2.679415\u001b[0m   \n",
       "\u001b[1;36m1\u001b[0m  \u001b[1;36m2277475\u001b[0m    \u001b[1;36m277475\u001b[0m \u001b[1m(\u001b[0m\u001b[1;36m2005\u001b[0m WK4\u001b[1m)\u001b[0m          \u001b[1;36m0.265800\u001b[0m          \u001b[1;36m0.594347\u001b[0m   \n",
       "\u001b[1;36m2\u001b[0m  \u001b[1;36m2512244\u001b[0m   \u001b[1;36m512244\u001b[0m \u001b[1m(\u001b[0m\u001b[1;36m2015\u001b[0m YE18\u001b[1m)\u001b[0m          \u001b[1;36m0.722030\u001b[0m          \u001b[1;36m1.614507\u001b[0m   \n",
       "\n",
       "   relative_velocity  miss_distance orbiting_body  sentry_object  \\\n",
       "\u001b[1;36m0\u001b[0m       \u001b[1;36m13569.249224\u001b[0m   \u001b[1;36m5.483974e+07\u001b[0m         Earth          \u001b[3;91mFalse\u001b[0m   \n",
       "\u001b[1;36m1\u001b[0m       \u001b[1;36m73588.726663\u001b[0m   \u001b[1;36m6.143813e+07\u001b[0m         Earth          \u001b[3;91mFalse\u001b[0m   \n",
       "\u001b[1;36m2\u001b[0m      \u001b[1;36m114258.692129\u001b[0m   \u001b[1;36m4.979872e+07\u001b[0m         Earth          \u001b[3;91mFalse\u001b[0m   \n",
       "\n",
       "   absolute_magnitude  hazardous  \n",
       "\u001b[1;36m0\u001b[0m               \u001b[1;36m16.73\u001b[0m      \u001b[3;91mFalse\u001b[0m  \n",
       "\u001b[1;36m1\u001b[0m               \u001b[1;36m20.00\u001b[0m       \u001b[3;92mTrue\u001b[0m  \n",
       "\u001b[1;36m2\u001b[0m               \u001b[1;36m17.83\u001b[0m      \u001b[3;91mFalse\u001b[0m  \n",
       "\u001b[1m)\u001b[0m"
      ]
     },
     "execution_count": 4,
     "metadata": {},
     "output_type": "execute_result"
    }
   ],
   "source": [
    "df_meteorites = catalog.load(\"meteorite_landings\")\n",
    "df_neo        = catalog.load(\"neo\")\n",
    "\n",
    "print(\"meteorite_landings:\", df_meteorites.shape)\n",
    "print(\"neo:\", df_neo.shape)\n",
    "\n",
    "df_meteorites.head(3), df_neo.head(3)\n"
   ]
  },
  {
   "cell_type": "code",
   "execution_count": 5,
   "id": "a3012bae-a718-4b71-816a-f64fb4db5968",
   "metadata": {
    "collapsed": true,
    "jupyter": {
     "outputs_hidden": true
    }
   },
   "outputs": [
    {
     "data": {
      "text/html": [
       "<pre style=\"white-space:pre;overflow-x:auto;line-height:normal;font-family:Menlo,'DejaVu Sans Mono',consolas,'Courier New',monospace\"></pre>\n"
      ],
      "text/plain": []
     },
     "metadata": {},
     "output_type": "display_data"
    },
    {
     "data": {
      "text/plain": [
       "\u001b[1m[\u001b[0m\u001b[32m'name'\u001b[0m, \u001b[32m'id'\u001b[0m, \u001b[32m'nametype'\u001b[0m, \u001b[32m'recclass'\u001b[0m, \u001b[32m'mass'\u001b[0m, \u001b[32m'fall'\u001b[0m, \u001b[32m'year'\u001b[0m, \u001b[32m'reclat'\u001b[0m, \u001b[32m'reclong'\u001b[0m, \u001b[32m'GeoLocation'\u001b[0m\u001b[1m]\u001b[0m"
      ]
     },
     "execution_count": 5,
     "metadata": {},
     "output_type": "execute_result"
    }
   ],
   "source": [
    "list(df_meteorites.columns)\n"
   ]
  },
  {
   "cell_type": "code",
   "execution_count": 6,
   "id": "ce7fc6c4-8a4f-4587-8819-a0eb22f59d25",
   "metadata": {
    "collapsed": true,
    "jupyter": {
     "outputs_hidden": true,
     "source_hidden": true
    },
    "scrolled": true
   },
   "outputs": [
    {
     "name": "stdout",
     "output_type": "stream",
     "text": [
      "(45292, 12)\n"
     ]
    },
    {
     "data": {
      "text/html": [
       "<pre style=\"white-space:pre;overflow-x:auto;line-height:normal;font-family:Menlo,'DejaVu Sans Mono',consolas,'Courier New',monospace\"></pre>\n"
      ],
      "text/plain": []
     },
     "metadata": {},
     "output_type": "display_data"
    },
    {
     "data": {
      "text/html": [
       "<div>\n",
       "<style scoped>\n",
       "    .dataframe tbody tr th:only-of-type {\n",
       "        vertical-align: middle;\n",
       "    }\n",
       "\n",
       "    .dataframe tbody tr th {\n",
       "        vertical-align: top;\n",
       "    }\n",
       "\n",
       "    .dataframe thead th {\n",
       "        text-align: right;\n",
       "    }\n",
       "</style>\n",
       "<table border=\"1\" class=\"dataframe\">\n",
       "  <thead>\n",
       "    <tr style=\"text-align: right;\">\n",
       "      <th></th>\n",
       "      <th>name</th>\n",
       "      <th>year</th>\n",
       "      <th>mass</th>\n",
       "      <th>mass_clipped</th>\n",
       "      <th>log_mass</th>\n",
       "    </tr>\n",
       "  </thead>\n",
       "  <tbody>\n",
       "    <tr>\n",
       "      <th>0</th>\n",
       "      <td>Aachen</td>\n",
       "      <td>1970</td>\n",
       "      <td>21.0</td>\n",
       "      <td>21.0</td>\n",
       "      <td>3.091042</td>\n",
       "    </tr>\n",
       "    <tr>\n",
       "      <th>1</th>\n",
       "      <td>Aarhus</td>\n",
       "      <td>1970</td>\n",
       "      <td>720.0</td>\n",
       "      <td>720.0</td>\n",
       "      <td>6.580639</td>\n",
       "    </tr>\n",
       "    <tr>\n",
       "      <th>2</th>\n",
       "      <td>Abee</td>\n",
       "      <td>1970</td>\n",
       "      <td>107000.0</td>\n",
       "      <td>50000.0</td>\n",
       "      <td>10.819798</td>\n",
       "    </tr>\n",
       "    <tr>\n",
       "      <th>3</th>\n",
       "      <td>Acapulco</td>\n",
       "      <td>1970</td>\n",
       "      <td>1914.0</td>\n",
       "      <td>1914.0</td>\n",
       "      <td>7.557473</td>\n",
       "    </tr>\n",
       "    <tr>\n",
       "      <th>4</th>\n",
       "      <td>Achiras</td>\n",
       "      <td>1970</td>\n",
       "      <td>780.0</td>\n",
       "      <td>780.0</td>\n",
       "      <td>6.660575</td>\n",
       "    </tr>\n",
       "  </tbody>\n",
       "</table>\n",
       "</div>"
      ],
      "text/plain": [
       "\n",
       "       name  year      mass  mass_clipped   log_mass\n",
       "\u001b[1;36m0\u001b[0m    Aachen  \u001b[1;36m1970\u001b[0m      \u001b[1;36m21.0\u001b[0m          \u001b[1;36m21.0\u001b[0m   \u001b[1;36m3.091042\u001b[0m\n",
       "\u001b[1;36m1\u001b[0m    Aarhus  \u001b[1;36m1970\u001b[0m     \u001b[1;36m720.0\u001b[0m         \u001b[1;36m720.0\u001b[0m   \u001b[1;36m6.580639\u001b[0m\n",
       "\u001b[1;36m2\u001b[0m      Abee  \u001b[1;36m1970\u001b[0m  \u001b[1;36m107000.0\u001b[0m       \u001b[1;36m50000.0\u001b[0m  \u001b[1;36m10.819798\u001b[0m\n",
       "\u001b[1;36m3\u001b[0m  Acapulco  \u001b[1;36m1970\u001b[0m    \u001b[1;36m1914.0\u001b[0m        \u001b[1;36m1914.0\u001b[0m   \u001b[1;36m7.557473\u001b[0m\n",
       "\u001b[1;36m4\u001b[0m   Achiras  \u001b[1;36m1970\u001b[0m     \u001b[1;36m780.0\u001b[0m         \u001b[1;36m780.0\u001b[0m   \u001b[1;36m6.660575\u001b[0m"
      ]
     },
     "execution_count": 6,
     "metadata": {},
     "output_type": "execute_result"
    }
   ],
   "source": [
    "m = df_meteorites.copy()\n",
    "\n",
    "m[\"mass\"] = pd.to_numeric(m[\"mass\"], errors=\"coerce\")\n",
    "m[\"reclat\"] = pd.to_numeric(m.get(\"reclat\"), errors=\"coerce\")\n",
    "m[\"reclong\"] = pd.to_numeric(m.get(\"reclong\"), errors=\"coerce\")\n",
    "\n",
    "\n",
    "m[\"year\"] = pd.to_datetime(m[\"year\"], errors=\"coerce\").dt.year\n",
    "\n",
    "\n",
    "m = m.dropna(subset=[\"year\"])\n",
    "\n",
    "\n",
    "m[\"year\"] = m[\"year\"].astype(int)\n",
    "\n",
    "\n",
    "if \"id\" in m.columns:\n",
    "    m = m.drop_duplicates(subset=[\"id\"])\n",
    "else:\n",
    "    m = m.drop_duplicates(subset=[\"name\", \"year\", \"reclat\", \"reclong\"])\n",
    "\n",
    "\n",
    "m = m[(m[\"mass\"].notna()) & (m[\"mass\"] > 0)]\n",
    "\n",
    "\n",
    "low, high = m[\"mass\"].quantile([0.01, 0.99])\n",
    "m[\"mass_clipped\"] = m[\"mass\"].clip(lower=low, upper=high)\n",
    "\n",
    "\n",
    "m[\"log_mass\"] = np.log1p(m[\"mass_clipped\"])\n",
    "\n",
    "print(m.shape)\n",
    "m[[\"name\",\"year\",\"mass\",\"mass_clipped\",\"log_mass\"]].head()\n"
   ]
  },
  {
   "cell_type": "code",
   "execution_count": 7,
   "id": "b1d8feab-93b6-4b8a-8be2-844f14af2914",
   "metadata": {
    "collapsed": true,
    "jupyter": {
     "outputs_hidden": true
    }
   },
   "outputs": [
    {
     "data": {
      "text/html": [
       "<pre style=\"white-space:pre;overflow-x:auto;line-height:normal;font-family:Menlo,'DejaVu Sans Mono',consolas,'Courier New',monospace\"></pre>\n"
      ],
      "text/plain": []
     },
     "metadata": {},
     "output_type": "display_data"
    },
    {
     "data": {
      "text/plain": [
       "\n",
       "reclong         \u001b[1;36m0.158858\u001b[0m\n",
       "GeoLocation     \u001b[1;36m0.158858\u001b[0m\n",
       "reclat          \u001b[1;36m0.158858\u001b[0m\n",
       "name            \u001b[1;36m0.000000\u001b[0m\n",
       "recclass        \u001b[1;36m0.000000\u001b[0m\n",
       "nametype        \u001b[1;36m0.000000\u001b[0m\n",
       "id              \u001b[1;36m0.000000\u001b[0m\n",
       "mass            \u001b[1;36m0.000000\u001b[0m\n",
       "year            \u001b[1;36m0.000000\u001b[0m\n",
       "fall            \u001b[1;36m0.000000\u001b[0m\n",
       "mass_clipped    \u001b[1;36m0.000000\u001b[0m\n",
       "log_mass        \u001b[1;36m0.000000\u001b[0m\n",
       "dtype: float64"
      ]
     },
     "execution_count": 7,
     "metadata": {},
     "output_type": "execute_result"
    }
   ],
   "source": [
    "m.isna().mean().sort_values(ascending=False).head(15)"
   ]
  },
  {
   "cell_type": "code",
   "execution_count": 20,
   "id": "c762d9f6-8f82-4c62-a053-82d291764ba2",
   "metadata": {},
   "outputs": [
    {
     "data": {
      "text/html": [
       "<pre style=\"white-space:pre;overflow-x:auto;line-height:normal;font-family:Menlo,'DejaVu Sans Mono',consolas,'Courier New',monospace\"></pre>\n"
      ],
      "text/plain": []
     },
     "metadata": {},
     "output_type": "display_data"
    },
    {
     "data": {
      "text/plain": [
       "\n",
       "name               \u001b[1;36m0\u001b[0m\n",
       "id                 \u001b[1;36m0\u001b[0m\n",
       "nametype           \u001b[1;36m0\u001b[0m\n",
       "recclass           \u001b[1;36m0\u001b[0m\n",
       "mass               \u001b[1;36m0\u001b[0m\n",
       "fall               \u001b[1;36m0\u001b[0m\n",
       "year               \u001b[1;36m0\u001b[0m\n",
       "reclat          \u001b[1;36m7195\u001b[0m\n",
       "reclong         \u001b[1;36m7195\u001b[0m\n",
       "GeoLocation     \u001b[1;36m7195\u001b[0m\n",
       "mass_clipped       \u001b[1;36m0\u001b[0m\n",
       "log_mass           \u001b[1;36m0\u001b[0m\n",
       "dtype: int64"
      ]
     },
     "execution_count": 20,
     "metadata": {},
     "output_type": "execute_result"
    }
   ],
   "source": [
    "m.isnull().sum()"
   ]
  },
  {
   "cell_type": "code",
   "execution_count": 21,
   "id": "693718ef-253c-4138-bee0-07aea9e548b5",
   "metadata": {},
   "outputs": [
    {
     "name": "stdout",
     "output_type": "stream",
     "text": [
      "Total de filas: 45292\n",
      "Porcentaje nulos en reclat: 15.885807648149783\n"
     ]
    }
   ],
   "source": [
    "total_rows = m.shape[0]\n",
    "print(\"Total de filas:\", total_rows)\n",
    "print(\"Porcentaje nulos en reclat:\", (m[\"reclat\"].isna().sum() / total_rows) * 100)"
   ]
  },
  {
   "cell_type": "code",
   "execution_count": 22,
   "id": "55baaa2a-4890-48e3-98ae-b8faaba922eb",
   "metadata": {},
   "outputs": [
    {
     "name": "stdout",
     "output_type": "stream",
     "text": [
      "Nulos en GeoLocation después de limpieza: 0\n",
      "Nulos en reclat después de limpieza: 7195\n",
      "Nulos en reclong después de limpieza: 7195\n"
     ]
    },
    {
     "data": {
      "text/html": [
       "<pre style=\"white-space:pre;overflow-x:auto;line-height:normal;font-family:Menlo,'DejaVu Sans Mono',consolas,'Courier New',monospace\"></pre>\n"
      ],
      "text/plain": []
     },
     "metadata": {},
     "output_type": "display_data"
    },
    {
     "data": {
      "text/html": [
       "<div>\n",
       "<style scoped>\n",
       "    .dataframe tbody tr th:only-of-type {\n",
       "        vertical-align: middle;\n",
       "    }\n",
       "\n",
       "    .dataframe tbody tr th {\n",
       "        vertical-align: top;\n",
       "    }\n",
       "\n",
       "    .dataframe thead th {\n",
       "        text-align: right;\n",
       "    }\n",
       "</style>\n",
       "<table border=\"1\" class=\"dataframe\">\n",
       "  <thead>\n",
       "    <tr style=\"text-align: right;\">\n",
       "      <th></th>\n",
       "      <th>name</th>\n",
       "      <th>id</th>\n",
       "      <th>nametype</th>\n",
       "      <th>recclass</th>\n",
       "      <th>mass</th>\n",
       "      <th>fall</th>\n",
       "      <th>year</th>\n",
       "      <th>reclat</th>\n",
       "      <th>reclong</th>\n",
       "      <th>GeoLocation</th>\n",
       "      <th>mass_clipped</th>\n",
       "      <th>log_mass</th>\n",
       "    </tr>\n",
       "  </thead>\n",
       "  <tbody>\n",
       "    <tr>\n",
       "      <th>0</th>\n",
       "      <td>Aachen</td>\n",
       "      <td>1</td>\n",
       "      <td>Valid</td>\n",
       "      <td>L5</td>\n",
       "      <td>21.0</td>\n",
       "      <td>Fell</td>\n",
       "      <td>1970</td>\n",
       "      <td>50.77500</td>\n",
       "      <td>6.08333</td>\n",
       "      <td>(50.775000, 6.083330)</td>\n",
       "      <td>21.0</td>\n",
       "      <td>3.091042</td>\n",
       "    </tr>\n",
       "    <tr>\n",
       "      <th>1</th>\n",
       "      <td>Aarhus</td>\n",
       "      <td>2</td>\n",
       "      <td>Valid</td>\n",
       "      <td>H6</td>\n",
       "      <td>720.0</td>\n",
       "      <td>Fell</td>\n",
       "      <td>1970</td>\n",
       "      <td>56.18333</td>\n",
       "      <td>10.23333</td>\n",
       "      <td>(56.183330, 10.233330)</td>\n",
       "      <td>720.0</td>\n",
       "      <td>6.580639</td>\n",
       "    </tr>\n",
       "    <tr>\n",
       "      <th>2</th>\n",
       "      <td>Abee</td>\n",
       "      <td>6</td>\n",
       "      <td>Valid</td>\n",
       "      <td>EH4</td>\n",
       "      <td>107000.0</td>\n",
       "      <td>Fell</td>\n",
       "      <td>1970</td>\n",
       "      <td>54.21667</td>\n",
       "      <td>-113.00000</td>\n",
       "      <td>(54.216670, -113.000000)</td>\n",
       "      <td>50000.0</td>\n",
       "      <td>10.819798</td>\n",
       "    </tr>\n",
       "  </tbody>\n",
       "</table>\n",
       "</div>"
      ],
      "text/plain": [
       "\n",
       "     name  id nametype recclass      mass  fall  year    reclat    reclong  \\\n",
       "\u001b[1;36m0\u001b[0m  Aachen   \u001b[1;36m1\u001b[0m    Valid       L5      \u001b[1;36m21.0\u001b[0m  Fell  \u001b[1;36m1970\u001b[0m  \u001b[1;36m50.77500\u001b[0m    \u001b[1;36m6.08333\u001b[0m   \n",
       "\u001b[1;36m1\u001b[0m  Aarhus   \u001b[1;36m2\u001b[0m    Valid       H6     \u001b[1;36m720.0\u001b[0m  Fell  \u001b[1;36m1970\u001b[0m  \u001b[1;36m56.18333\u001b[0m   \u001b[1;36m10.23333\u001b[0m   \n",
       "\u001b[1;36m2\u001b[0m    Abee   \u001b[1;36m6\u001b[0m    Valid      EH4  \u001b[1;36m107000.0\u001b[0m  Fell  \u001b[1;36m1970\u001b[0m  \u001b[1;36m54.21667\u001b[0m \u001b[1;36m-113.00000\u001b[0m   \n",
       "\n",
       "                GeoLocation  mass_clipped   log_mass  \n",
       "\u001b[1;36m0\u001b[0m     \u001b[1m(\u001b[0m\u001b[1;36m50.775000\u001b[0m, \u001b[1;36m6.083330\u001b[0m\u001b[1m)\u001b[0m          \u001b[1;36m21.0\u001b[0m   \u001b[1;36m3.091042\u001b[0m  \n",
       "\u001b[1;36m1\u001b[0m    \u001b[1m(\u001b[0m\u001b[1;36m56.183330\u001b[0m, \u001b[1;36m10.233330\u001b[0m\u001b[1m)\u001b[0m         \u001b[1;36m720.0\u001b[0m   \u001b[1;36m6.580639\u001b[0m  \n",
       "\u001b[1;36m2\u001b[0m  \u001b[1m(\u001b[0m\u001b[1;36m54.216670\u001b[0m, \u001b[1;36m-113.000000\u001b[0m\u001b[1m)\u001b[0m       \u001b[1;36m50000.0\u001b[0m  \u001b[1;36m10.819798\u001b[0m  "
      ]
     },
     "execution_count": 22,
     "metadata": {},
     "output_type": "execute_result"
    }
   ],
   "source": [
    "m_clean = m.copy()\n",
    "\n",
    "m_clean[\"GeoLocation\"] = m_clean[\"GeoLocation\"].fillna(\"Unknown\")\n",
    "\n",
    "m_clean[\"reclat\"] = pd.to_numeric(m_clean[\"reclat\"], errors=\"coerce\")\n",
    "m_clean[\"reclong\"] = pd.to_numeric(m_clean[\"reclong\"], errors=\"coerce\")\n",
    "\n",
    "print(\"Nulos en GeoLocation después de limpieza:\", m_clean[\"GeoLocation\"].isna().sum())\n",
    "print(\"Nulos en reclat después de limpieza:\", m_clean[\"reclat\"].isna().sum())\n",
    "print(\"Nulos en reclong después de limpieza:\", m_clean[\"reclong\"].isna().sum())\n",
    "\n",
    "m_clean.head(3)\n"
   ]
  },
  {
   "cell_type": "code",
   "execution_count": 26,
   "id": "b76114eb-0452-4122-ada8-ca75108f9a15",
   "metadata": {},
   "outputs": [
    {
     "data": {
      "text/html": [
       "<pre style=\"white-space:pre;overflow-x:auto;line-height:normal;font-family:Menlo,'DejaVu Sans Mono',consolas,'Courier New',monospace\"></pre>\n"
      ],
      "text/plain": []
     },
     "metadata": {},
     "output_type": "display_data"
    },
    {
     "data": {
      "image/png": "[encoded data removed]",
      "text/plain": [
       "\u001b[1m<\u001b[0m\u001b[1;95mFigure\u001b[0m\u001b[39m size 64\u001b[0m\u001b[1;36m0x480\u001b[0m\u001b[39m with \u001b[0m\u001b[1;36m1\u001b[0m\u001b[39m Axes\u001b[0m\u001b[1m>\u001b[0m"
      ]
     },
     "metadata": {},
     "output_type": "display_data"
    }
   ],
   "source": [
    "import seaborn as sns\n",
    "import matplotlib.pyplot as plt\n",
    "\n",
    "\n",
    "sns.boxplot(x=m_clean[\"mass\"])\n",
    "plt.title(\"Distribución de masas de meteoritos\")\n",
    "plt.show()\n"
   ]
  },
  {
   "cell_type": "code",
   "execution_count": 27,
   "id": "b0931ce2-dd20-4671-bf0b-a9f3841af025",
   "metadata": {},
   "outputs": [],
   "source": [
    "m_clean[\"log_mass\"] = np.log1p(m_clean[\"mass\"])"
   ]
  },
  {
   "cell_type": "code",
   "execution_count": 28,
   "id": "af1f2f76-507c-482a-bab1-e3cfdd539330",
   "metadata": {},
   "outputs": [],
   "source": [
    "m_clean = m_clean.dropna(subset=[\"reclat\", \"reclong\"])"
   ]
  },
  {
   "cell_type": "code",
   "execution_count": 29,
   "id": "2e87d450-c9d8-45a4-8b2c-fd8a04cb6389",
   "metadata": {},
   "outputs": [
    {
     "name": "stdout",
     "output_type": "stream",
     "text": [
      "count    38097.0\n",
      "mean      1970.0\n",
      "std          0.0\n",
      "min       1970.0\n",
      "25%       1970.0\n",
      "50%       1970.0\n",
      "75%       1970.0\n",
      "max       1970.0\n",
      "Name: year, dtype: float64\n"
     ]
    }
   ],
   "source": [
    "m_clean[\"year\"] = pd.to_numeric(m_clean[\"year\"], errors=\"coerce\")\n",
    "print(m_clean[\"year\"].describe())"
   ]
  },
  {
   "cell_type": "code",
   "execution_count": 36,
   "id": "b1d7e3d3-e2cf-42c6-bd4b-af62657e0fb8",
   "metadata": {},
   "outputs": [
    {
     "name": "stdout",
     "output_type": "stream",
     "text": [
      "[1970]\n"
     ]
    }
   ],
   "source": [
    "print(m_clean[\"year\"].unique()[:20])\n"
   ]
  },
  {
   "cell_type": "code",
   "execution_count": 39,
   "id": "dd69d163-c9cb-4f25-bc4a-e132bd12c37b",
   "metadata": {},
   "outputs": [
    {
     "name": "stdout",
     "output_type": "stream",
     "text": [
      "0     1880.0\n",
      "1     1951.0\n",
      "2     1952.0\n",
      "3     1976.0\n",
      "4     1902.0\n",
      "5     1919.0\n",
      "6     1949.0\n",
      "7     1814.0\n",
      "8     1930.0\n",
      "9     1920.0\n",
      "10    1974.0\n",
      "11    1925.0\n",
      "12    1769.0\n",
      "13    1949.0\n",
      "14    1838.0\n",
      "15    1959.0\n",
      "16    1981.0\n",
      "17    1957.0\n",
      "18    2001.0\n",
      "19    1806.0\n",
      "Name: year, dtype: float64\n"
     ]
    }
   ],
   "source": [
    "print(df_meteorites[\"year\"].head(20))\n"
   ]
  },
  {
   "cell_type": "code",
   "execution_count": 40,
   "id": "430ff396-853f-4358-9f62-5bb8f027822f",
   "metadata": {},
   "outputs": [],
   "source": [
    "m_clean[\"year\"] = pd.to_numeric(m_clean[\"year\"], errors=\"coerce\").astype(\"Int64\")"
   ]
  },
  {
   "cell_type": "code",
   "execution_count": 41,
   "id": "f50eb8ae-ed9a-4172-8ef2-8f4cbb97150f",
   "metadata": {},
   "outputs": [
    {
     "name": "stdout",
     "output_type": "stream",
     "text": [
      "Nulos en year: 0\n"
     ]
    }
   ],
   "source": [
    "print(\"Nulos en year:\", m_clean[\"year\"].isna().sum())\n"
   ]
  },
  {
   "cell_type": "code",
   "execution_count": 42,
   "id": "d9a98169-0291-4fe5-8540-3fce22568fd5",
   "metadata": {},
   "outputs": [
    {
     "data": {
      "text/html": [
       "<pre style=\"white-space:pre;overflow-x:auto;line-height:normal;font-family:Menlo,'DejaVu Sans Mono',consolas,'Courier New',monospace\"></pre>\n"
      ],
      "text/plain": []
     },
     "metadata": {},
     "output_type": "display_data"
    },
    {
     "data": {
      "text/plain": [
       "\u001b[1m<\u001b[0m\u001b[1;95mAxes:\u001b[0m\u001b[39m \u001b[0m\u001b[1m>\u001b[0m"
      ]
     },
     "execution_count": 42,
     "metadata": {},
     "output_type": "execute_result"
    },
    {
     "data": {
      "text/html": [
       "<pre style=\"white-space:pre;overflow-x:auto;line-height:normal;font-family:Menlo,'DejaVu Sans Mono',consolas,'Courier New',monospace\"></pre>\n"
      ],
      "text/plain": []
     },
     "metadata": {},
     "output_type": "display_data"
    },
    {
     "data": {
      "image/png": "[encoded data removed]",
      "text/plain": [
       "\u001b[1m<\u001b[0m\u001b[1;95mFigure\u001b[0m\u001b[39m size 80\u001b[0m\u001b[1;36m0x400\u001b[0m\u001b[39m with \u001b[0m\u001b[1;36m1\u001b[0m\u001b[39m Axes\u001b[0m\u001b[1m>\u001b[0m"
      ]
     },
     "metadata": {},
     "output_type": "display_data"
    }
   ],
   "source": [
    "m_clean[\"year\"].hist(bins=50, figsize=(8,4))"
   ]
  },
  {
   "cell_type": "code",
   "execution_count": 45,
   "id": "5c64323c-9caf-421f-b9ed-3997de42605a",
   "metadata": {},
   "outputs": [
    {
     "name": "stdout",
     "output_type": "stream",
     "text": [
      "<IntegerArray>\n",
      "[1880, 1951, 1952, 1976, 1902, 1919, 1949, 1814, 1930, 1920, 1974, 1925, 1838,\n",
      " 1959, 1981, 1957, 2001, 1806, 1766, 2002]\n",
      "Length: 20, dtype: Int64\n",
      "860 2013\n"
     ]
    },
    {
     "data": {
      "text/html": [
       "<pre style=\"white-space:pre;overflow-x:auto;line-height:normal;font-family:Menlo,'DejaVu Sans Mono',consolas,'Courier New',monospace\"></pre>\n"
      ],
      "text/plain": []
     },
     "metadata": {},
     "output_type": "display_data"
    },
    {
     "data": {
      "image/png": "[encoded data removed]",
      "text/plain": [
       "\u001b[1m<\u001b[0m\u001b[1;95mFigure\u001b[0m\u001b[39m size 80\u001b[0m\u001b[1;36m0x400\u001b[0m\u001b[39m with \u001b[0m\u001b[1;36m1\u001b[0m\u001b[39m Axes\u001b[0m\u001b[1m>\u001b[0m"
      ]
     },
     "metadata": {},
     "output_type": "display_data"
    }
   ],
   "source": [
    "m_clean[\"year\"] = pd.to_numeric(df_meteorites[\"year\"], errors=\"coerce\").astype(\"Int64\")\n",
    "\n",
    "\n",
    "m_clean.loc[(m_clean[\"year\"] < 860) | (m_clean[\"year\"] > 2025), \"year\"] = pd.NA\n",
    "\n",
    "\n",
    "print(m_clean[\"year\"].unique()[:20])\n",
    "print(m_clean[\"year\"].min(), m_clean[\"year\"].max())\n",
    "\n",
    "\n",
    "m_clean[\"year\"].hist(bins=50, figsize=(8,4))\n",
    "plt.title(\"Distribución de meteoritos por año\")\n",
    "plt.xlabel(\"Año\"); plt.ylabel(\"Cantidad\"); plt.show()\n"
   ]
  },
  {
   "cell_type": "code",
   "execution_count": 8,
   "id": "d2f14ccb-3687-4605-b001-c045670b31c5",
   "metadata": {
    "collapsed": true,
    "jupyter": {
     "outputs_hidden": true
    }
   },
   "outputs": [
    {
     "data": {
      "text/html": [
       "<pre style=\"white-space:pre;overflow-x:auto;line-height:normal;font-family:Menlo,'DejaVu Sans Mono',consolas,'Courier New',monospace\"></pre>\n"
      ],
      "text/plain": []
     },
     "metadata": {},
     "output_type": "display_data"
    },
    {
     "data": {
      "text/plain": [
       "\n",
       "\u001b[1m[\u001b[0m\n",
       "    \u001b[32m'id'\u001b[0m,\n",
       "    \u001b[32m'name'\u001b[0m,\n",
       "    \u001b[32m'est_diameter_min'\u001b[0m,\n",
       "    \u001b[32m'est_diameter_max'\u001b[0m,\n",
       "    \u001b[32m'relative_velocity'\u001b[0m,\n",
       "    \u001b[32m'miss_distance'\u001b[0m,\n",
       "    \u001b[32m'orbiting_body'\u001b[0m,\n",
       "    \u001b[32m'sentry_object'\u001b[0m,\n",
       "    \u001b[32m'absolute_magnitude'\u001b[0m,\n",
       "    \u001b[32m'hazardous'\u001b[0m\n",
       "\u001b[1m]\u001b[0m"
      ]
     },
     "execution_count": 8,
     "metadata": {},
     "output_type": "execute_result"
    }
   ],
   "source": [
    "list(df_neo.columns)"
   ]
  },
  {
   "cell_type": "code",
   "execution_count": 12,
   "id": "f998fe22-30ee-40fa-b01c-c0197f2c64e3",
   "metadata": {},
   "outputs": [
    {
     "data": {
      "text/html": [
       "<pre style=\"white-space:pre;overflow-x:auto;line-height:normal;font-family:Menlo,'DejaVu Sans Mono',consolas,'Courier New',monospace\"></pre>\n"
      ],
      "text/plain": []
     },
     "metadata": {},
     "output_type": "display_data"
    },
    {
     "data": {
      "text/html": [
       "<div>\n",
       "<style scoped>\n",
       "    .dataframe tbody tr th:only-of-type {\n",
       "        vertical-align: middle;\n",
       "    }\n",
       "\n",
       "    .dataframe tbody tr th {\n",
       "        vertical-align: top;\n",
       "    }\n",
       "\n",
       "    .dataframe thead th {\n",
       "        text-align: right;\n",
       "    }\n",
       "</style>\n",
       "<table border=\"1\" class=\"dataframe\">\n",
       "  <thead>\n",
       "    <tr style=\"text-align: right;\">\n",
       "      <th></th>\n",
       "      <th>id</th>\n",
       "      <th>name</th>\n",
       "      <th>est_diameter_min</th>\n",
       "      <th>est_diameter_max</th>\n",
       "      <th>relative_velocity</th>\n",
       "      <th>miss_distance</th>\n",
       "      <th>orbiting_body</th>\n",
       "      <th>sentry_object</th>\n",
       "      <th>absolute_magnitude</th>\n",
       "      <th>hazardous</th>\n",
       "    </tr>\n",
       "  </thead>\n",
       "  <tbody>\n",
       "    <tr>\n",
       "      <th>0</th>\n",
       "      <td>2162635</td>\n",
       "      <td>162635 (2000 SS164)</td>\n",
       "      <td>1.198271</td>\n",
       "      <td>2.679415</td>\n",
       "      <td>13569.249224</td>\n",
       "      <td>5.483974e+07</td>\n",
       "      <td>Earth</td>\n",
       "      <td>0</td>\n",
       "      <td>16.73</td>\n",
       "      <td>0</td>\n",
       "    </tr>\n",
       "    <tr>\n",
       "      <th>1</th>\n",
       "      <td>2277475</td>\n",
       "      <td>277475 (2005 WK4)</td>\n",
       "      <td>0.265800</td>\n",
       "      <td>0.594347</td>\n",
       "      <td>73588.726663</td>\n",
       "      <td>6.143813e+07</td>\n",
       "      <td>Earth</td>\n",
       "      <td>0</td>\n",
       "      <td>20.00</td>\n",
       "      <td>1</td>\n",
       "    </tr>\n",
       "    <tr>\n",
       "      <th>2</th>\n",
       "      <td>2512244</td>\n",
       "      <td>512244 (2015 YE18)</td>\n",
       "      <td>0.722030</td>\n",
       "      <td>1.614507</td>\n",
       "      <td>114258.692129</td>\n",
       "      <td>4.979872e+07</td>\n",
       "      <td>Earth</td>\n",
       "      <td>0</td>\n",
       "      <td>17.83</td>\n",
       "      <td>0</td>\n",
       "    </tr>\n",
       "    <tr>\n",
       "      <th>3</th>\n",
       "      <td>3596030</td>\n",
       "      <td>(2012 BV13)</td>\n",
       "      <td>0.096506</td>\n",
       "      <td>0.215794</td>\n",
       "      <td>24764.303138</td>\n",
       "      <td>2.543497e+07</td>\n",
       "      <td>Earth</td>\n",
       "      <td>0</td>\n",
       "      <td>22.20</td>\n",
       "      <td>0</td>\n",
       "    </tr>\n",
       "    <tr>\n",
       "      <th>4</th>\n",
       "      <td>3667127</td>\n",
       "      <td>(2014 GE35)</td>\n",
       "      <td>0.255009</td>\n",
       "      <td>0.570217</td>\n",
       "      <td>42737.733765</td>\n",
       "      <td>4.627557e+07</td>\n",
       "      <td>Earth</td>\n",
       "      <td>0</td>\n",
       "      <td>20.09</td>\n",
       "      <td>1</td>\n",
       "    </tr>\n",
       "  </tbody>\n",
       "</table>\n",
       "</div>"
      ],
      "text/plain": [
       "\n",
       "        id                 name  est_diameter_min  est_diameter_max  \\\n",
       "\u001b[1;36m0\u001b[0m  \u001b[1;36m2162635\u001b[0m  \u001b[1;36m162635\u001b[0m \u001b[1m(\u001b[0m\u001b[1;36m2000\u001b[0m SS164\u001b[1m)\u001b[0m          \u001b[1;36m1.198271\u001b[0m          \u001b[1;36m2.679415\u001b[0m   \n",
       "\u001b[1;36m1\u001b[0m  \u001b[1;36m2277475\u001b[0m    \u001b[1;36m277475\u001b[0m \u001b[1m(\u001b[0m\u001b[1;36m2005\u001b[0m WK4\u001b[1m)\u001b[0m          \u001b[1;36m0.265800\u001b[0m          \u001b[1;36m0.594347\u001b[0m   \n",
       "\u001b[1;36m2\u001b[0m  \u001b[1;36m2512244\u001b[0m   \u001b[1;36m512244\u001b[0m \u001b[1m(\u001b[0m\u001b[1;36m2015\u001b[0m YE18\u001b[1m)\u001b[0m          \u001b[1;36m0.722030\u001b[0m          \u001b[1;36m1.614507\u001b[0m   \n",
       "\u001b[1;36m3\u001b[0m  \u001b[1;36m3596030\u001b[0m          \u001b[1m(\u001b[0m\u001b[1;36m2012\u001b[0m BV13\u001b[1m)\u001b[0m          \u001b[1;36m0.096506\u001b[0m          \u001b[1;36m0.215794\u001b[0m   \n",
       "\u001b[1;36m4\u001b[0m  \u001b[1;36m3667127\u001b[0m          \u001b[1m(\u001b[0m\u001b[1;36m2014\u001b[0m GE35\u001b[1m)\u001b[0m          \u001b[1;36m0.255009\u001b[0m          \u001b[1;36m0.570217\u001b[0m   \n",
       "\n",
       "   relative_velocity  miss_distance orbiting_body  sentry_object  \\\n",
       "\u001b[1;36m0\u001b[0m       \u001b[1;36m13569.249224\u001b[0m   \u001b[1;36m5.483974e+07\u001b[0m         Earth              \u001b[1;36m0\u001b[0m   \n",
       "\u001b[1;36m1\u001b[0m       \u001b[1;36m73588.726663\u001b[0m   \u001b[1;36m6.143813e+07\u001b[0m         Earth              \u001b[1;36m0\u001b[0m   \n",
       "\u001b[1;36m2\u001b[0m      \u001b[1;36m114258.692129\u001b[0m   \u001b[1;36m4.979872e+07\u001b[0m         Earth              \u001b[1;36m0\u001b[0m   \n",
       "\u001b[1;36m3\u001b[0m       \u001b[1;36m24764.303138\u001b[0m   \u001b[1;36m2.543497e+07\u001b[0m         Earth              \u001b[1;36m0\u001b[0m   \n",
       "\u001b[1;36m4\u001b[0m       \u001b[1;36m42737.733765\u001b[0m   \u001b[1;36m4.627557e+07\u001b[0m         Earth              \u001b[1;36m0\u001b[0m   \n",
       "\n",
       "   absolute_magnitude  hazardous  \n",
       "\u001b[1;36m0\u001b[0m               \u001b[1;36m16.73\u001b[0m          \u001b[1;36m0\u001b[0m  \n",
       "\u001b[1;36m1\u001b[0m               \u001b[1;36m20.00\u001b[0m          \u001b[1;36m1\u001b[0m  \n",
       "\u001b[1;36m2\u001b[0m               \u001b[1;36m17.83\u001b[0m          \u001b[1;36m0\u001b[0m  \n",
       "\u001b[1;36m3\u001b[0m               \u001b[1;36m22.20\u001b[0m          \u001b[1;36m0\u001b[0m  \n",
       "\u001b[1;36m4\u001b[0m               \u001b[1;36m20.09\u001b[0m          \u001b[1;36m1\u001b[0m  "
      ]
     },
     "execution_count": 12,
     "metadata": {},
     "output_type": "execute_result"
    }
   ],
   "source": [
    "\n",
    "n = df_neo.copy()\n",
    "\n",
    "num_cols = [\"est_diameter_min\", \"est_diameter_max\", \n",
    "            \"relative_velocity\", \"miss_distance\", \"absolute_magnitude\"]\n",
    "\n",
    "for c in num_cols:\n",
    "    n[c] = pd.to_numeric(n[c], errors=\"coerce\")  # convierte a número, NaN si no puede\n",
    "\n",
    "for c in [\"hazardous\", \"sentry_object\"]:\n",
    "    if c in n.columns:\n",
    "        n[c] = n[c].astype(str).str.lower().isin([\"true\",\"1\",\"yes\",\"y\",\"t\"]).astype(int)\n",
    "\n",
    "\n",
    "n.head()\n",
    "\n",
    "\n"
   ]
  },
  {
   "cell_type": "code",
   "execution_count": 13,
   "id": "35e76ce0-936d-4b62-96e0-fdcbdc7bd882",
   "metadata": {},
   "outputs": [
    {
     "data": {
      "text/html": [
       "<pre style=\"white-space:pre;overflow-x:auto;line-height:normal;font-family:Menlo,'DejaVu Sans Mono',consolas,'Courier New',monospace\"></pre>\n"
      ],
      "text/plain": []
     },
     "metadata": {},
     "output_type": "display_data"
    },
    {
     "data": {
      "text/plain": [
       "\n",
       "id                    \u001b[1;36m0\u001b[0m\n",
       "name                  \u001b[1;36m0\u001b[0m\n",
       "est_diameter_min      \u001b[1;36m0\u001b[0m\n",
       "est_diameter_max      \u001b[1;36m0\u001b[0m\n",
       "relative_velocity     \u001b[1;36m0\u001b[0m\n",
       "miss_distance         \u001b[1;36m0\u001b[0m\n",
       "orbiting_body         \u001b[1;36m0\u001b[0m\n",
       "sentry_object         \u001b[1;36m0\u001b[0m\n",
       "absolute_magnitude    \u001b[1;36m0\u001b[0m\n",
       "hazardous             \u001b[1;36m0\u001b[0m\n",
       "dtype: int64"
      ]
     },
     "execution_count": 13,
     "metadata": {},
     "output_type": "execute_result"
    }
   ],
   "source": [
    "n.isnull().sum()\n"
   ]
  },
  {
   "cell_type": "code",
   "execution_count": 14,
   "id": "3dc5402f-e99b-4088-b764-2e808e703b36",
   "metadata": {},
   "outputs": [
    {
     "name": "stdout",
     "output_type": "stream",
     "text": [
      "Duplicados eliminados: 63413\n"
     ]
    },
    {
     "data": {
      "text/html": [
       "<pre style=\"white-space:pre;overflow-x:auto;line-height:normal;font-family:Menlo,'DejaVu Sans Mono',consolas,'Courier New',monospace\"></pre>\n"
      ],
      "text/plain": []
     },
     "metadata": {},
     "output_type": "display_data"
    },
    {
     "data": {
      "text/html": [
       "<div>\n",
       "<style scoped>\n",
       "    .dataframe tbody tr th:only-of-type {\n",
       "        vertical-align: middle;\n",
       "    }\n",
       "\n",
       "    .dataframe tbody tr th {\n",
       "        vertical-align: top;\n",
       "    }\n",
       "\n",
       "    .dataframe thead th {\n",
       "        text-align: right;\n",
       "    }\n",
       "</style>\n",
       "<table border=\"1\" class=\"dataframe\">\n",
       "  <thead>\n",
       "    <tr style=\"text-align: right;\">\n",
       "      <th></th>\n",
       "      <th>id</th>\n",
       "      <th>name</th>\n",
       "      <th>est_diameter_min</th>\n",
       "      <th>est_diameter_max</th>\n",
       "      <th>relative_velocity</th>\n",
       "      <th>miss_distance</th>\n",
       "      <th>orbiting_body</th>\n",
       "      <th>sentry_object</th>\n",
       "      <th>absolute_magnitude</th>\n",
       "      <th>hazardous</th>\n",
       "    </tr>\n",
       "  </thead>\n",
       "  <tbody>\n",
       "    <tr>\n",
       "      <th>0</th>\n",
       "      <td>2162635</td>\n",
       "      <td>162635 (2000 SS164)</td>\n",
       "      <td>1.198271</td>\n",
       "      <td>2.679415</td>\n",
       "      <td>13569.249224</td>\n",
       "      <td>5.483974e+07</td>\n",
       "      <td>Earth</td>\n",
       "      <td>0</td>\n",
       "      <td>16.73</td>\n",
       "      <td>0</td>\n",
       "    </tr>\n",
       "    <tr>\n",
       "      <th>1</th>\n",
       "      <td>2277475</td>\n",
       "      <td>277475 (2005 WK4)</td>\n",
       "      <td>0.265800</td>\n",
       "      <td>0.594347</td>\n",
       "      <td>73588.726663</td>\n",
       "      <td>6.143813e+07</td>\n",
       "      <td>Earth</td>\n",
       "      <td>0</td>\n",
       "      <td>20.00</td>\n",
       "      <td>1</td>\n",
       "    </tr>\n",
       "    <tr>\n",
       "      <th>2</th>\n",
       "      <td>2512244</td>\n",
       "      <td>512244 (2015 YE18)</td>\n",
       "      <td>0.722030</td>\n",
       "      <td>1.614507</td>\n",
       "      <td>114258.692129</td>\n",
       "      <td>4.979872e+07</td>\n",
       "      <td>Earth</td>\n",
       "      <td>0</td>\n",
       "      <td>17.83</td>\n",
       "      <td>0</td>\n",
       "    </tr>\n",
       "  </tbody>\n",
       "</table>\n",
       "</div>"
      ],
      "text/plain": [
       "\n",
       "        id                 name  est_diameter_min  est_diameter_max  \\\n",
       "\u001b[1;36m0\u001b[0m  \u001b[1;36m2162635\u001b[0m  \u001b[1;36m162635\u001b[0m \u001b[1m(\u001b[0m\u001b[1;36m2000\u001b[0m SS164\u001b[1m)\u001b[0m          \u001b[1;36m1.198271\u001b[0m          \u001b[1;36m2.679415\u001b[0m   \n",
       "\u001b[1;36m1\u001b[0m  \u001b[1;36m2277475\u001b[0m    \u001b[1;36m277475\u001b[0m \u001b[1m(\u001b[0m\u001b[1;36m2005\u001b[0m WK4\u001b[1m)\u001b[0m          \u001b[1;36m0.265800\u001b[0m          \u001b[1;36m0.594347\u001b[0m   \n",
       "\u001b[1;36m2\u001b[0m  \u001b[1;36m2512244\u001b[0m   \u001b[1;36m512244\u001b[0m \u001b[1m(\u001b[0m\u001b[1;36m2015\u001b[0m YE18\u001b[1m)\u001b[0m          \u001b[1;36m0.722030\u001b[0m          \u001b[1;36m1.614507\u001b[0m   \n",
       "\n",
       "   relative_velocity  miss_distance orbiting_body  sentry_object  \\\n",
       "\u001b[1;36m0\u001b[0m       \u001b[1;36m13569.249224\u001b[0m   \u001b[1;36m5.483974e+07\u001b[0m         Earth              \u001b[1;36m0\u001b[0m   \n",
       "\u001b[1;36m1\u001b[0m       \u001b[1;36m73588.726663\u001b[0m   \u001b[1;36m6.143813e+07\u001b[0m         Earth              \u001b[1;36m0\u001b[0m   \n",
       "\u001b[1;36m2\u001b[0m      \u001b[1;36m114258.692129\u001b[0m   \u001b[1;36m4.979872e+07\u001b[0m         Earth              \u001b[1;36m0\u001b[0m   \n",
       "\n",
       "   absolute_magnitude  hazardous  \n",
       "\u001b[1;36m0\u001b[0m               \u001b[1;36m16.73\u001b[0m          \u001b[1;36m0\u001b[0m  \n",
       "\u001b[1;36m1\u001b[0m               \u001b[1;36m20.00\u001b[0m          \u001b[1;36m1\u001b[0m  \n",
       "\u001b[1;36m2\u001b[0m               \u001b[1;36m17.83\u001b[0m          \u001b[1;36m0\u001b[0m  "
      ]
     },
     "execution_count": 14,
     "metadata": {},
     "output_type": "execute_result"
    }
   ],
   "source": [
    "n[\"id\"] = n[\"id\"].astype(str)         \n",
    "n[\"name\"] = n[\"name\"].astype(str)\n",
    "n[\"orbiting_body\"] = n[\"orbiting_body\"].astype(\"category\")\n",
    "\n",
    "before = len(n)\n",
    "n = n.drop_duplicates(subset=[\"id\"])\n",
    "after = len(n)\n",
    "print(f\"Duplicados eliminados: {before - after}\")\n",
    "n.head(3)\n"
   ]
  },
  {
   "cell_type": "code",
   "execution_count": 15,
   "id": "61658607-bd84-4776-a670-3fa3176a96ec",
   "metadata": {},
   "outputs": [
    {
     "data": {
      "text/html": [
       "<pre style=\"white-space:pre;overflow-x:auto;line-height:normal;font-family:Menlo,'DejaVu Sans Mono',consolas,'Courier New',monospace\"></pre>\n"
      ],
      "text/plain": []
     },
     "metadata": {},
     "output_type": "display_data"
    },
    {
     "data": {
      "text/html": [
       "<div>\n",
       "<style scoped>\n",
       "    .dataframe tbody tr th:only-of-type {\n",
       "        vertical-align: middle;\n",
       "    }\n",
       "\n",
       "    .dataframe tbody tr th {\n",
       "        vertical-align: top;\n",
       "    }\n",
       "\n",
       "    .dataframe thead th {\n",
       "        text-align: right;\n",
       "    }\n",
       "</style>\n",
       "<table border=\"1\" class=\"dataframe\">\n",
       "  <thead>\n",
       "    <tr style=\"text-align: right;\">\n",
       "      <th></th>\n",
       "      <th>id</th>\n",
       "      <th>name</th>\n",
       "      <th>orbiting_body</th>\n",
       "      <th>est_diameter_min</th>\n",
       "      <th>est_diameter_max</th>\n",
       "      <th>diameter_mean</th>\n",
       "      <th>relative_velocity</th>\n",
       "      <th>miss_distance</th>\n",
       "      <th>absolute_magnitude</th>\n",
       "      <th>sentry_object</th>\n",
       "      <th>hazardous</th>\n",
       "    </tr>\n",
       "  </thead>\n",
       "  <tbody>\n",
       "    <tr>\n",
       "      <th>0</th>\n",
       "      <td>2162635</td>\n",
       "      <td>162635 (2000 SS164)</td>\n",
       "      <td>Earth</td>\n",
       "      <td>1.198271</td>\n",
       "      <td>2.679415</td>\n",
       "      <td>1.938843</td>\n",
       "      <td>13569.249224</td>\n",
       "      <td>5.483974e+07</td>\n",
       "      <td>16.73</td>\n",
       "      <td>0</td>\n",
       "      <td>0</td>\n",
       "    </tr>\n",
       "    <tr>\n",
       "      <th>1</th>\n",
       "      <td>2277475</td>\n",
       "      <td>277475 (2005 WK4)</td>\n",
       "      <td>Earth</td>\n",
       "      <td>0.265800</td>\n",
       "      <td>0.594347</td>\n",
       "      <td>0.430073</td>\n",
       "      <td>73588.726663</td>\n",
       "      <td>6.143813e+07</td>\n",
       "      <td>20.00</td>\n",
       "      <td>0</td>\n",
       "      <td>1</td>\n",
       "    </tr>\n",
       "    <tr>\n",
       "      <th>2</th>\n",
       "      <td>2512244</td>\n",
       "      <td>512244 (2015 YE18)</td>\n",
       "      <td>Earth</td>\n",
       "      <td>0.722030</td>\n",
       "      <td>1.614507</td>\n",
       "      <td>1.168268</td>\n",
       "      <td>114258.692129</td>\n",
       "      <td>4.979872e+07</td>\n",
       "      <td>17.83</td>\n",
       "      <td>0</td>\n",
       "      <td>0</td>\n",
       "    </tr>\n",
       "  </tbody>\n",
       "</table>\n",
       "</div>"
      ],
      "text/plain": [
       "\n",
       "        id                 name orbiting_body  est_diameter_min  \\\n",
       "\u001b[1;36m0\u001b[0m  \u001b[1;36m2162635\u001b[0m  \u001b[1;36m162635\u001b[0m \u001b[1m(\u001b[0m\u001b[1;36m2000\u001b[0m SS164\u001b[1m)\u001b[0m         Earth          \u001b[1;36m1.198271\u001b[0m   \n",
       "\u001b[1;36m1\u001b[0m  \u001b[1;36m2277475\u001b[0m    \u001b[1;36m277475\u001b[0m \u001b[1m(\u001b[0m\u001b[1;36m2005\u001b[0m WK4\u001b[1m)\u001b[0m         Earth          \u001b[1;36m0.265800\u001b[0m   \n",
       "\u001b[1;36m2\u001b[0m  \u001b[1;36m2512244\u001b[0m   \u001b[1;36m512244\u001b[0m \u001b[1m(\u001b[0m\u001b[1;36m2015\u001b[0m YE18\u001b[1m)\u001b[0m         Earth          \u001b[1;36m0.722030\u001b[0m   \n",
       "\n",
       "   est_diameter_max  diameter_mean  relative_velocity  miss_distance  \\\n",
       "\u001b[1;36m0\u001b[0m          \u001b[1;36m2.679415\u001b[0m       \u001b[1;36m1.938843\u001b[0m       \u001b[1;36m13569.249224\u001b[0m   \u001b[1;36m5.483974e+07\u001b[0m   \n",
       "\u001b[1;36m1\u001b[0m          \u001b[1;36m0.594347\u001b[0m       \u001b[1;36m0.430073\u001b[0m       \u001b[1;36m73588.726663\u001b[0m   \u001b[1;36m6.143813e+07\u001b[0m   \n",
       "\u001b[1;36m2\u001b[0m          \u001b[1;36m1.614507\u001b[0m       \u001b[1;36m1.168268\u001b[0m      \u001b[1;36m114258.692129\u001b[0m   \u001b[1;36m4.979872e+07\u001b[0m   \n",
       "\n",
       "   absolute_magnitude  sentry_object  hazardous  \n",
       "\u001b[1;36m0\u001b[0m               \u001b[1;36m16.73\u001b[0m              \u001b[1;36m0\u001b[0m          \u001b[1;36m0\u001b[0m  \n",
       "\u001b[1;36m1\u001b[0m               \u001b[1;36m20.00\u001b[0m              \u001b[1;36m0\u001b[0m          \u001b[1;36m1\u001b[0m  \n",
       "\u001b[1;36m2\u001b[0m               \u001b[1;36m17.83\u001b[0m              \u001b[1;36m0\u001b[0m          \u001b[1;36m0\u001b[0m  "
      ]
     },
     "execution_count": 15,
     "metadata": {},
     "output_type": "execute_result"
    }
   ],
   "source": [
    "n[\"diameter_mean\"] = (n[\"est_diameter_min\"] + n[\"est_diameter_max\"]) / 2\n",
    "\n",
    "\n",
    "cols = [\n",
    "    \"id\", \"name\", \"orbiting_body\",\n",
    "    \"est_diameter_min\", \"est_diameter_max\", \"diameter_mean\",\n",
    "    \"relative_velocity\", \"miss_distance\", \"absolute_magnitude\",\n",
    "    \"sentry_object\", \"hazardous\"\n",
    "]\n",
    "n = n[cols]\n",
    "n.head(3)\n"
   ]
  },
  {
   "cell_type": "code",
   "execution_count": 16,
   "id": "653bbf22-3369-4037-ab8f-9598c8114a68",
   "metadata": {},
   "outputs": [
    {
     "name": "stdout",
     "output_type": "stream",
     "text": [
      "est_diameter_min: IQR=(-0.177, 0.351) | outliers ~ 2560\n",
      "est_diameter_max: IQR=(-0.395, 0.784) | outliers ~ 2560\n",
      "diameter_mean: IQR=(-0.286, 0.567) | outliers ~ 2560\n",
      "relative_velocity: IQR=(-2.48e+04, 1.19e+05) | outliers ~ 445\n",
      "miss_distance: IQR=(-5.58e+07, 1.2e+08) | outliers ~ 0\n",
      "absolute_magnitude: IQR=(14.7, 32) | outliers ~ 36\n"
     ]
    }
   ],
   "source": [
    "import numpy as np\n",
    "import pandas as pd\n",
    "\n",
    "num_cols = [\n",
    "    \"est_diameter_min\", \"est_diameter_max\", \"diameter_mean\",\n",
    "    \"relative_velocity\", \"miss_distance\", \"absolute_magnitude\"\n",
    "]\n",
    "\n",
    "iqr_info = {}\n",
    "for c in num_cols:\n",
    "    q1 = n[c].quantile(0.25)\n",
    "    q3 = n[c].quantile(0.75)\n",
    "    iqr = q3 - q1\n",
    "    low = q1 - 1.5 * iqr\n",
    "    high = q3 + 1.5 * iqr\n",
    "    iqr_info[c] = (low, high)\n",
    "    outliers = ((n[c] < low) | (n[c] > high)).sum()\n",
    "    print(f\"{c}: IQR=({low:.3g}, {high:.3g}) | outliers ~ {outliers}\")\n"
   ]
  },
  {
   "cell_type": "code",
   "execution_count": 17,
   "id": "64e35405-1c0f-43d0-9c01-45420c7fcec9",
   "metadata": {},
   "outputs": [
    {
     "data": {
      "text/html": [
       "<pre style=\"white-space:pre;overflow-x:auto;line-height:normal;font-family:Menlo,'DejaVu Sans Mono',consolas,'Courier New',monospace\"></pre>\n"
      ],
      "text/plain": []
     },
     "metadata": {},
     "output_type": "display_data"
    },
    {
     "data": {
      "image/png": "[encoded data removed]",
      "text/plain": [
       "\u001b[1m<\u001b[0m\u001b[1;95mFigure\u001b[0m\u001b[39m size 120\u001b[0m\u001b[1;36m0x800\u001b[0m\u001b[39m with \u001b[0m\u001b[1;36m6\u001b[0m\u001b[39m Axes\u001b[0m\u001b[1m>\u001b[0m"
      ]
     },
     "metadata": {},
     "output_type": "display_data"
    }
   ],
   "source": [
    "import matplotlib.pyplot as plt\n",
    "import seaborn as sns\n",
    "\n",
    "plt.figure(figsize=(12,8))\n",
    "for i, c in enumerate(num_cols, 1):\n",
    "    plt.subplot(2, 3, i)\n",
    "    sns.boxplot(y=n[c])\n",
    "    plt.title(c)\n",
    "plt.tight_layout()\n",
    "plt.show()"
   ]
  },
  {
   "cell_type": "code",
   "execution_count": 18,
   "id": "abad37d0-38af-40a3-95e4-4715d6535184",
   "metadata": {},
   "outputs": [
    {
     "data": {
      "text/html": [
       "<pre style=\"white-space:pre;overflow-x:auto;line-height:normal;font-family:Menlo,'DejaVu Sans Mono',consolas,'Courier New',monospace\"></pre>\n"
      ],
      "text/plain": []
     },
     "metadata": {},
     "output_type": "display_data"
    },
    {
     "data": {
      "text/plain": [
       "\n",
       "\u001b[1m{\u001b[0m\n",
       "    \u001b[32m'est_diameter_min'\u001b[0m: \u001b[1;36m2560\u001b[0m,\n",
       "    \u001b[32m'est_diameter_max'\u001b[0m: \u001b[1;36m2560\u001b[0m,\n",
       "    \u001b[32m'diameter_mean'\u001b[0m: \u001b[1;36m2560\u001b[0m,\n",
       "    \u001b[32m'relative_velocity'\u001b[0m: \u001b[1;36m445\u001b[0m,\n",
       "    \u001b[32m'miss_distance'\u001b[0m: \u001b[1;36m0\u001b[0m,\n",
       "    \u001b[32m'absolute_magnitude'\u001b[0m: \u001b[1;36m36\u001b[0m\n",
       "\u001b[1m}\u001b[0m"
      ]
     },
     "execution_count": 18,
     "metadata": {},
     "output_type": "execute_result"
    }
   ],
   "source": [
    "outliers_dict = {}\n",
    "\n",
    "for c in num_cols:\n",
    "    q1 = n[c].quantile(0.25)\n",
    "    q3 = n[c].quantile(0.75)\n",
    "    iqr = q3 - q1\n",
    "    low = q1 - 1.5 * iqr\n",
    "    high = q3 + 1.5 * iqr\n",
    "    \n",
    "    outliers = n[(n[c] < low) | (n[c] > high)]\n",
    "    outliers_dict[c] = outliers.shape[0]  # cuántos outliers tiene esa variable\n",
    "\n",
    "outliers_dict\n"
   ]
  },
  {
   "cell_type": "code",
   "execution_count": 19,
   "id": "8336fa88-019e-48c7-beea-9f4eb1a076a0",
   "metadata": {},
   "outputs": [
    {
     "name": "stdout",
     "output_type": "stream",
     "text": [
      "Datos originales vs limpiados:\n",
      "Original:                             min           max\n",
      "est_diameter_min       0.000609  3.789265e+01\n",
      "est_diameter_max       0.001362  8.473054e+01\n",
      "diameter_mean          0.000985  6.131160e+01\n",
      "relative_velocity    561.695602  2.369901e+05\n",
      "miss_distance       9316.925424  7.479865e+07\n",
      "absolute_magnitude     9.230000  3.320000e+01\n",
      "Limpio:                             min           max\n",
      "est_diameter_min       0.000609  3.507100e-01\n",
      "est_diameter_max       0.001362  7.842113e-01\n",
      "diameter_mean          0.000985  5.674607e-01\n",
      "relative_velocity    561.695602  1.187617e+05\n",
      "miss_distance       9316.925424  7.479865e+07\n",
      "absolute_magnitude    14.750000  3.195000e+01\n"
     ]
    }
   ],
   "source": [
    "n_clean = n.copy()  \n",
    "\n",
    "for c in num_cols:\n",
    "    q1 = n[c].quantile(0.25)\n",
    "    q3 = n[c].quantile(0.75)\n",
    "    iqr = q3 - q1\n",
    "    low = q1 - 1.5 * iqr\n",
    "    high = q3 + 1.5 * iqr\n",
    "\n",
    "    n_clean[c] = np.where(n[c] < low, low,\n",
    "                          np.where(n[c] > high, high, n[c]))\n",
    "\n",
    "print(\"Datos originales vs limpiados:\")\n",
    "print(\"Original:\", n[num_cols].describe().T[[\"min\",\"max\"]])\n",
    "print(\"Limpio:\", n_clean[num_cols].describe().T[[\"min\",\"max\"]])\n"
   ]
  },
  {
   "cell_type": "code",
   "execution_count": 52,
   "id": "c56dc934-7587-4c97-8054-180de44506c9",
   "metadata": {},
   "outputs": [],
   "source": [
    "import os\n",
    "os.makedirs(\"data/02_intermediate\", exist_ok=True)\n",
    "\n",
    "n_clean.to_parquet(\"data/02_intermediate/neo_clean.parquet\", index=False)\n",
    "m_clean.to_parquet(\"data/02_intermediate/meteorites_clean.parquet\", index=False)\n",
    "\n"
   ]
  },
  {
   "cell_type": "code",
   "execution_count": 55,
   "id": "f98674f0-6413-4a1c-99ea-b1e44072f7d3",
   "metadata": {},
   "outputs": [
    {
     "name": "stdout",
     "output_type": "stream",
     "text": [
      "True\n",
      "True\n"
     ]
    }
   ],
   "source": [
    "import os\n",
    "print(os.path.exists(\"data/02_intermediate/neo_clean.parquet\"))\n",
    "print(os.path.exists(\"data/02_intermediate/meteorites_clean.parquet\"))\n"
   ]
  },
  {
   "cell_type": "code",
   "execution_count": 57,
   "id": "56c1e224-1e6b-4e0c-a4af-a6ff059c57cd",
   "metadata": {},
   "outputs": [
    {
     "name": "stdout",
     "output_type": "stream",
     "text": [
      "C:\\ML\\spaceflights\\notebooks\\data\\02_intermediate\\neo_clean.parquet  ->  True  | size(bytes):  1191687\n",
      "C:\\ML\\spaceflights\\notebooks\\data\\02_intermediate\\meteorites_clean.parquet  ->  True  | size(bytes):  1455854\n"
     ]
    }
   ],
   "source": [
    "from pathlib import Path\n",
    "for p in [\n",
    "    Path(\"data/02_intermediate/neo_clean.parquet\"),\n",
    "    Path(\"data/02_intermediate/meteorites_clean.parquet\"),\n",
    "]:\n",
    "    print(p.resolve(), \" -> \", p.exists(), \" | size(bytes): \", p.stat().st_size)\n"
   ]
  },
  {
   "cell_type": "code",
   "execution_count": 60,
   "id": "891a8968-5737-400d-9f8f-12a3ce2e15b0",
   "metadata": {},
   "outputs": [],
   "source": [
    "## Parte 2 Unificación de datasets NEO y Meteorites"
   ]
  },
  {
   "cell_type": "code",
   "execution_count": 66,
   "id": "7c3e8c96-0886-44ce-a8ab-6e20a4631eb2",
   "metadata": {},
   "outputs": [
    {
     "name": "stdout",
     "output_type": "stream",
     "text": [
      "The kedro.ipython extension is already loaded. To reload it, use:\n",
      "  %reload_ext kedro.ipython\n"
     ]
    },
    {
     "data": {
      "text/html": [
       "<pre style=\"white-space:pre;overflow-x:auto;line-height:normal;font-family:Menlo,'DejaVu Sans Mono',consolas,'Courier New',monospace\"><span style=\"color: #7fbfbf; text-decoration-color: #7fbfbf\">[09/14/25 21:14:18] </span><span style=\"color: #000080; text-decoration-color: #000080\">INFO    </span> Kedro is sending anonymous usage data with the sole purpose of improving <a href=\"file://C:\\ML\\spaceflights\\.venv\\Lib\\site-packages\\kedro_telemetry\\plugin.py\" target=\"_blank\"><span style=\"color: #7f7f7f; text-decoration-color: #7f7f7f\">plugin.py</span></a><span style=\"color: #7f7f7f; text-decoration-color: #7f7f7f\">:</span><a href=\"file://C:\\ML\\spaceflights\\.venv\\Lib\\site-packages\\kedro_telemetry\\plugin.py#243\" target=\"_blank\"><span style=\"color: #7f7f7f; text-decoration-color: #7f7f7f\">243</span></a>\n",
       "<span style=\"color: #7fbfbf; text-decoration-color: #7fbfbf\">                    </span>         the product. No personal data or IP addresses are stored on our side. To <span style=\"color: #7f7f7f; text-decoration-color: #7f7f7f\">             </span>\n",
       "<span style=\"color: #7fbfbf; text-decoration-color: #7fbfbf\">                    </span>         opt out, set the `KEDRO_DISABLE_TELEMETRY` or `DO_NOT_TRACK` environment <span style=\"color: #7f7f7f; text-decoration-color: #7f7f7f\">             </span>\n",
       "<span style=\"color: #7fbfbf; text-decoration-color: #7fbfbf\">                    </span>         variables, or create a `.telemetry` file in the current working          <span style=\"color: #7f7f7f; text-decoration-color: #7f7f7f\">             </span>\n",
       "<span style=\"color: #7fbfbf; text-decoration-color: #7fbfbf\">                    </span>         directory with the contents `consent: false`. To hide this message,      <span style=\"color: #7f7f7f; text-decoration-color: #7f7f7f\">             </span>\n",
       "<span style=\"color: #7fbfbf; text-decoration-color: #7fbfbf\">                    </span>         explicitly grant or deny consent. Read more at                           <span style=\"color: #7f7f7f; text-decoration-color: #7f7f7f\">             </span>\n",
       "<span style=\"color: #7fbfbf; text-decoration-color: #7fbfbf\">                    </span>         <span style=\"color: #0000ff; text-decoration-color: #0000ff; text-decoration: underline\">https://docs.kedro.org/en/stable/configuration/telemetry.html</span>            <span style=\"color: #7f7f7f; text-decoration-color: #7f7f7f\">             </span>\n",
       "</pre>\n"
      ],
      "text/plain": [
       "\u001b[2;36m[09/14/25 21:14:18]\u001b[0m\u001b[2;36m \u001b[0m\u001b[34mINFO    \u001b[0m Kedro is sending anonymous usage data with the sole purpose of improving \u001b]8;id=812572;file://C:\\ML\\spaceflights\\.venv\\Lib\\site-packages\\kedro_telemetry\\plugin.py\u001b\\\u001b[2mplugin.py\u001b[0m\u001b]8;;\u001b\\\u001b[2m:\u001b[0m\u001b]8;id=171866;file://C:\\ML\\spaceflights\\.venv\\Lib\\site-packages\\kedro_telemetry\\plugin.py#243\u001b\\\u001b[2m243\u001b[0m\u001b]8;;\u001b\\\n",
       "\u001b[2;36m                    \u001b[0m         the product. No personal data or IP addresses are stored on our side. To \u001b[2m             \u001b[0m\n",
       "\u001b[2;36m                    \u001b[0m         opt out, set the `KEDRO_DISABLE_TELEMETRY` or `DO_NOT_TRACK` environment \u001b[2m             \u001b[0m\n",
       "\u001b[2;36m                    \u001b[0m         variables, or create a `.telemetry` file in the current working          \u001b[2m             \u001b[0m\n",
       "\u001b[2;36m                    \u001b[0m         directory with the contents `consent: false`. To hide this message,      \u001b[2m             \u001b[0m\n",
       "\u001b[2;36m                    \u001b[0m         explicitly grant or deny consent. Read more at                           \u001b[2m             \u001b[0m\n",
       "\u001b[2;36m                    \u001b[0m         \u001b[4;94mhttps://docs.kedro.org/en/stable/configuration/telemetry.html\u001b[0m            \u001b[2m             \u001b[0m\n"
      ]
     },
     "metadata": {},
     "output_type": "display_data"
    },
    {
     "data": {
      "text/html": [
       "<pre style=\"white-space:pre;overflow-x:auto;line-height:normal;font-family:Menlo,'DejaVu Sans Mono',consolas,'Courier New',monospace\"><span style=\"color: #7fbfbf; text-decoration-color: #7fbfbf\">[09/14/25 21:14:19] </span><span style=\"color: #000080; text-decoration-color: #000080\">INFO    </span> Kedro project spaceflights                                             <a href=\"file://C:\\ML\\spaceflights\\.venv\\Lib\\site-packages\\kedro\\ipython\\__init__.py\" target=\"_blank\"><span style=\"color: #7f7f7f; text-decoration-color: #7f7f7f\">__init__.py</span></a><span style=\"color: #7f7f7f; text-decoration-color: #7f7f7f\">:</span><a href=\"file://C:\\ML\\spaceflights\\.venv\\Lib\\site-packages\\kedro\\ipython\\__init__.py#146\" target=\"_blank\"><span style=\"color: #7f7f7f; text-decoration-color: #7f7f7f\">146</span></a>\n",
       "</pre>\n"
      ],
      "text/plain": [
       "\u001b[2;36m[09/14/25 21:14:19]\u001b[0m\u001b[2;36m \u001b[0m\u001b[34mINFO    \u001b[0m Kedro project spaceflights                                             \u001b]8;id=327234;file://C:\\ML\\spaceflights\\.venv\\Lib\\site-packages\\kedro\\ipython\\__init__.py\u001b\\\u001b[2m__init__.py\u001b[0m\u001b]8;;\u001b\\\u001b[2m:\u001b[0m\u001b]8;id=68513;file://C:\\ML\\spaceflights\\.venv\\Lib\\site-packages\\kedro\\ipython\\__init__.py#146\u001b\\\u001b[2m146\u001b[0m\u001b]8;;\u001b\\\n"
      ]
     },
     "metadata": {},
     "output_type": "display_data"
    },
    {
     "data": {
      "text/html": [
       "<pre style=\"white-space:pre;overflow-x:auto;line-height:normal;font-family:Menlo,'DejaVu Sans Mono',consolas,'Courier New',monospace\"><span style=\"color: #7fbfbf; text-decoration-color: #7fbfbf\">                    </span><span style=\"color: #000080; text-decoration-color: #000080\">INFO    </span> Defined global variable <span style=\"color: #008000; text-decoration-color: #008000\">'context'</span>, <span style=\"color: #008000; text-decoration-color: #008000\">'session'</span>, <span style=\"color: #008000; text-decoration-color: #008000\">'catalog'</span> and            <a href=\"file://C:\\ML\\spaceflights\\.venv\\Lib\\site-packages\\kedro\\ipython\\__init__.py\" target=\"_blank\"><span style=\"color: #7f7f7f; text-decoration-color: #7f7f7f\">__init__.py</span></a><span style=\"color: #7f7f7f; text-decoration-color: #7f7f7f\">:</span><a href=\"file://C:\\ML\\spaceflights\\.venv\\Lib\\site-packages\\kedro\\ipython\\__init__.py#147\" target=\"_blank\"><span style=\"color: #7f7f7f; text-decoration-color: #7f7f7f\">147</span></a>\n",
       "<span style=\"color: #7fbfbf; text-decoration-color: #7fbfbf\">                    </span>         <span style=\"color: #008000; text-decoration-color: #008000\">'pipelines'</span>                                                            <span style=\"color: #7f7f7f; text-decoration-color: #7f7f7f\">               </span>\n",
       "</pre>\n"
      ],
      "text/plain": [
       "\u001b[2;36m                   \u001b[0m\u001b[2;36m \u001b[0m\u001b[34mINFO    \u001b[0m Defined global variable \u001b[32m'context'\u001b[0m, \u001b[32m'session'\u001b[0m, \u001b[32m'catalog'\u001b[0m and            \u001b]8;id=930119;file://C:\\ML\\spaceflights\\.venv\\Lib\\site-packages\\kedro\\ipython\\__init__.py\u001b\\\u001b[2m__init__.py\u001b[0m\u001b]8;;\u001b\\\u001b[2m:\u001b[0m\u001b]8;id=210492;file://C:\\ML\\spaceflights\\.venv\\Lib\\site-packages\\kedro\\ipython\\__init__.py#147\u001b\\\u001b[2m147\u001b[0m\u001b]8;;\u001b\\\n",
       "\u001b[2;36m                    \u001b[0m         \u001b[32m'pipelines'\u001b[0m                                                            \u001b[2m               \u001b[0m\n"
      ]
     },
     "metadata": {},
     "output_type": "display_data"
    },
    {
     "data": {
      "text/html": [
       "<pre style=\"white-space:pre;overflow-x:auto;line-height:normal;font-family:Menlo,'DejaVu Sans Mono',consolas,'Courier New',monospace\"><span style=\"color: #7fbfbf; text-decoration-color: #7fbfbf\">                    </span><span style=\"color: #000080; text-decoration-color: #000080\">INFO    </span> Registered line magic <span style=\"color: #008000; text-decoration-color: #008000\">'run_viz'</span>                                        <a href=\"file://C:\\ML\\spaceflights\\.venv\\Lib\\site-packages\\kedro\\ipython\\__init__.py\" target=\"_blank\"><span style=\"color: #7f7f7f; text-decoration-color: #7f7f7f\">__init__.py</span></a><span style=\"color: #7f7f7f; text-decoration-color: #7f7f7f\">:</span><a href=\"file://C:\\ML\\spaceflights\\.venv\\Lib\\site-packages\\kedro\\ipython\\__init__.py#153\" target=\"_blank\"><span style=\"color: #7f7f7f; text-decoration-color: #7f7f7f\">153</span></a>\n",
       "</pre>\n"
      ],
      "text/plain": [
       "\u001b[2;36m                   \u001b[0m\u001b[2;36m \u001b[0m\u001b[34mINFO    \u001b[0m Registered line magic \u001b[32m'run_viz'\u001b[0m                                        \u001b]8;id=777434;file://C:\\ML\\spaceflights\\.venv\\Lib\\site-packages\\kedro\\ipython\\__init__.py\u001b\\\u001b[2m__init__.py\u001b[0m\u001b]8;;\u001b\\\u001b[2m:\u001b[0m\u001b]8;id=210067;file://C:\\ML\\spaceflights\\.venv\\Lib\\site-packages\\kedro\\ipython\\__init__.py#153\u001b\\\u001b[2m153\u001b[0m\u001b]8;;\u001b\\\n"
      ]
     },
     "metadata": {},
     "output_type": "display_data"
    },
    {
     "data": {
      "text/html": [
       "<pre style=\"white-space:pre;overflow-x:auto;line-height:normal;font-family:Menlo,'DejaVu Sans Mono',consolas,'Courier New',monospace\"><span style=\"color: #7fbfbf; text-decoration-color: #7fbfbf\">                    </span><span style=\"color: #000080; text-decoration-color: #000080\">INFO    </span> Saving data to <span style=\"color: #ff8700; text-decoration-color: #ff8700\">neo_clean</span> <span style=\"font-weight: bold\">(</span>ParquetDataset<span style=\"font-weight: bold\">)</span><span style=\"color: #808000; text-decoration-color: #808000\">...</span>                       <a href=\"file://C:\\ML\\spaceflights\\.venv\\Lib\\site-packages\\kedro\\io\\data_catalog.py\" target=\"_blank\"><span style=\"color: #7f7f7f; text-decoration-color: #7f7f7f\">data_catalog.py</span></a><span style=\"color: #7f7f7f; text-decoration-color: #7f7f7f\">:</span><a href=\"file://C:\\ML\\spaceflights\\.venv\\Lib\\site-packages\\kedro\\io\\data_catalog.py#445\" target=\"_blank\"><span style=\"color: #7f7f7f; text-decoration-color: #7f7f7f\">445</span></a>\n",
       "</pre>\n"
      ],
      "text/plain": [
       "\u001b[2;36m                   \u001b[0m\u001b[2;36m \u001b[0m\u001b[34mINFO    \u001b[0m Saving data to \u001b[38;5;208mneo_clean\u001b[0m \u001b[1m(\u001b[0mParquetDataset\u001b[1m)\u001b[0m\u001b[33m...\u001b[0m                       \u001b]8;id=625540;file://C:\\ML\\spaceflights\\.venv\\Lib\\site-packages\\kedro\\io\\data_catalog.py\u001b\\\u001b[2mdata_catalog.py\u001b[0m\u001b]8;;\u001b\\\u001b[2m:\u001b[0m\u001b]8;id=529969;file://C:\\ML\\spaceflights\\.venv\\Lib\\site-packages\\kedro\\io\\data_catalog.py#445\u001b\\\u001b[2m445\u001b[0m\u001b]8;;\u001b\\\n"
      ]
     },
     "metadata": {},
     "output_type": "display_data"
    },
    {
     "data": {
      "text/html": [
       "<pre style=\"white-space:pre;overflow-x:auto;line-height:normal;font-family:Menlo,'DejaVu Sans Mono',consolas,'Courier New',monospace\"><span style=\"color: #7fbfbf; text-decoration-color: #7fbfbf\">                    </span><span style=\"color: #000080; text-decoration-color: #000080\">INFO    </span> Saving data to <span style=\"color: #ff8700; text-decoration-color: #ff8700\">meteorites_clean</span> <span style=\"font-weight: bold\">(</span>ParquetDataset<span style=\"font-weight: bold\">)</span><span style=\"color: #808000; text-decoration-color: #808000\">...</span>                <a href=\"file://C:\\ML\\spaceflights\\.venv\\Lib\\site-packages\\kedro\\io\\data_catalog.py\" target=\"_blank\"><span style=\"color: #7f7f7f; text-decoration-color: #7f7f7f\">data_catalog.py</span></a><span style=\"color: #7f7f7f; text-decoration-color: #7f7f7f\">:</span><a href=\"file://C:\\ML\\spaceflights\\.venv\\Lib\\site-packages\\kedro\\io\\data_catalog.py#445\" target=\"_blank\"><span style=\"color: #7f7f7f; text-decoration-color: #7f7f7f\">445</span></a>\n",
       "</pre>\n"
      ],
      "text/plain": [
       "\u001b[2;36m                   \u001b[0m\u001b[2;36m \u001b[0m\u001b[34mINFO    \u001b[0m Saving data to \u001b[38;5;208mmeteorites_clean\u001b[0m \u001b[1m(\u001b[0mParquetDataset\u001b[1m)\u001b[0m\u001b[33m...\u001b[0m                \u001b]8;id=981698;file://C:\\ML\\spaceflights\\.venv\\Lib\\site-packages\\kedro\\io\\data_catalog.py\u001b\\\u001b[2mdata_catalog.py\u001b[0m\u001b]8;;\u001b\\\u001b[2m:\u001b[0m\u001b]8;id=523381;file://C:\\ML\\spaceflights\\.venv\\Lib\\site-packages\\kedro\\io\\data_catalog.py#445\u001b\\\u001b[2m445\u001b[0m\u001b]8;;\u001b\\\n"
      ]
     },
     "metadata": {},
     "output_type": "display_data"
    },
    {
     "data": {
      "text/html": [
       "<pre style=\"white-space:pre;overflow-x:auto;line-height:normal;font-family:Menlo,'DejaVu Sans Mono',consolas,'Courier New',monospace\"><span style=\"color: #7fbfbf; text-decoration-color: #7fbfbf\">                    </span><span style=\"color: #000080; text-decoration-color: #000080\">INFO    </span> Loading data from <span style=\"color: #ff8700; text-decoration-color: #ff8700\">neo_clean</span> <span style=\"font-weight: bold\">(</span>ParquetDataset<span style=\"font-weight: bold\">)</span><span style=\"color: #808000; text-decoration-color: #808000\">...</span>                    <a href=\"file://C:\\ML\\spaceflights\\.venv\\Lib\\site-packages\\kedro\\io\\data_catalog.py\" target=\"_blank\"><span style=\"color: #7f7f7f; text-decoration-color: #7f7f7f\">data_catalog.py</span></a><span style=\"color: #7f7f7f; text-decoration-color: #7f7f7f\">:</span><a href=\"file://C:\\ML\\spaceflights\\.venv\\Lib\\site-packages\\kedro\\io\\data_catalog.py#403\" target=\"_blank\"><span style=\"color: #7f7f7f; text-decoration-color: #7f7f7f\">403</span></a>\n",
       "</pre>\n"
      ],
      "text/plain": [
       "\u001b[2;36m                   \u001b[0m\u001b[2;36m \u001b[0m\u001b[34mINFO    \u001b[0m Loading data from \u001b[38;5;208mneo_clean\u001b[0m \u001b[1m(\u001b[0mParquetDataset\u001b[1m)\u001b[0m\u001b[33m...\u001b[0m                    \u001b]8;id=24598;file://C:\\ML\\spaceflights\\.venv\\Lib\\site-packages\\kedro\\io\\data_catalog.py\u001b\\\u001b[2mdata_catalog.py\u001b[0m\u001b]8;;\u001b\\\u001b[2m:\u001b[0m\u001b]8;id=947238;file://C:\\ML\\spaceflights\\.venv\\Lib\\site-packages\\kedro\\io\\data_catalog.py#403\u001b\\\u001b[2m403\u001b[0m\u001b]8;;\u001b\\\n"
      ]
     },
     "metadata": {},
     "output_type": "display_data"
    },
    {
     "data": {
      "text/html": [
       "<pre style=\"white-space:pre;overflow-x:auto;line-height:normal;font-family:Menlo,'DejaVu Sans Mono',consolas,'Courier New',monospace\"><span style=\"color: #7fbfbf; text-decoration-color: #7fbfbf\">                    </span><span style=\"color: #000080; text-decoration-color: #000080\">INFO    </span> Loading data from <span style=\"color: #ff8700; text-decoration-color: #ff8700\">meteorites_clean</span> <span style=\"font-weight: bold\">(</span>ParquetDataset<span style=\"font-weight: bold\">)</span><span style=\"color: #808000; text-decoration-color: #808000\">...</span>             <a href=\"file://C:\\ML\\spaceflights\\.venv\\Lib\\site-packages\\kedro\\io\\data_catalog.py\" target=\"_blank\"><span style=\"color: #7f7f7f; text-decoration-color: #7f7f7f\">data_catalog.py</span></a><span style=\"color: #7f7f7f; text-decoration-color: #7f7f7f\">:</span><a href=\"file://C:\\ML\\spaceflights\\.venv\\Lib\\site-packages\\kedro\\io\\data_catalog.py#403\" target=\"_blank\"><span style=\"color: #7f7f7f; text-decoration-color: #7f7f7f\">403</span></a>\n",
       "</pre>\n"
      ],
      "text/plain": [
       "\u001b[2;36m                   \u001b[0m\u001b[2;36m \u001b[0m\u001b[34mINFO    \u001b[0m Loading data from \u001b[38;5;208mmeteorites_clean\u001b[0m \u001b[1m(\u001b[0mParquetDataset\u001b[1m)\u001b[0m\u001b[33m...\u001b[0m             \u001b]8;id=763041;file://C:\\ML\\spaceflights\\.venv\\Lib\\site-packages\\kedro\\io\\data_catalog.py\u001b\\\u001b[2mdata_catalog.py\u001b[0m\u001b]8;;\u001b\\\u001b[2m:\u001b[0m\u001b]8;id=67804;file://C:\\ML\\spaceflights\\.venv\\Lib\\site-packages\\kedro\\io\\data_catalog.py#403\u001b\\\u001b[2m403\u001b[0m\u001b]8;;\u001b\\\n"
      ]
     },
     "metadata": {},
     "output_type": "display_data"
    },
    {
     "name": "stdout",
     "output_type": "stream",
     "text": [
      "(27423, 11) (38097, 12)\n"
     ]
    }
   ],
   "source": [
    "# 1) Carga Kedro en el notebook\n",
    "%load_ext kedro.ipython\n",
    "%reload_kedro C:\\ML\\spaceflights\n",
    "\n",
    "# 2) Guarda con el catálogo (esto crea los .parquet donde dice catalog.yml)\n",
    "catalog.save(\"neo_clean\", n_clean)\n",
    "catalog.save(\"meteorites_clean\", m_clean)\n",
    "\n",
    "# 3) Comprueba que carga ok desde el catálogo\n",
    "n = catalog.load(\"neo_clean\")\n",
    "m = catalog.load(\"meteorites_clean\")\n",
    "print(n.shape, m.shape)\n",
    "\n"
   ]
  },
  {
   "cell_type": "code",
   "execution_count": 69,
   "id": "8c1da0c1-e1bc-4e97-8c3a-79aacfaedef0",
   "metadata": {},
   "outputs": [
    {
     "name": "stdout",
     "output_type": "stream",
     "text": [
      "Cobertura de 'year' extraído en NEO: 100.0%\n"
     ]
    },
    {
     "data": {
      "text/html": [
       "<pre style=\"white-space:pre;overflow-x:auto;line-height:normal;font-family:Menlo,'DejaVu Sans Mono',consolas,'Courier New',monospace\"></pre>\n"
      ],
      "text/plain": []
     },
     "metadata": {},
     "output_type": "display_data"
    },
    {
     "data": {
      "text/html": [
       "<div>\n",
       "<style scoped>\n",
       "    .dataframe tbody tr th:only-of-type {\n",
       "        vertical-align: middle;\n",
       "    }\n",
       "\n",
       "    .dataframe tbody tr th {\n",
       "        vertical-align: top;\n",
       "    }\n",
       "\n",
       "    .dataframe thead th {\n",
       "        text-align: right;\n",
       "    }\n",
       "</style>\n",
       "<table border=\"1\" class=\"dataframe\">\n",
       "  <thead>\n",
       "    <tr style=\"text-align: right;\">\n",
       "      <th></th>\n",
       "      <th>name</th>\n",
       "      <th>year</th>\n",
       "      <th>diameter_mean</th>\n",
       "      <th>relative_velocity</th>\n",
       "      <th>miss_distance</th>\n",
       "      <th>hazardous</th>\n",
       "    </tr>\n",
       "  </thead>\n",
       "  <tbody>\n",
       "    <tr>\n",
       "      <th>0</th>\n",
       "      <td>162635 (2000 SS164)</td>\n",
       "      <td>2000</td>\n",
       "      <td>0.567461</td>\n",
       "      <td>13569.249224</td>\n",
       "      <td>5.483974e+07</td>\n",
       "      <td>0</td>\n",
       "    </tr>\n",
       "    <tr>\n",
       "      <th>1</th>\n",
       "      <td>277475 (2005 WK4)</td>\n",
       "      <td>2005</td>\n",
       "      <td>0.430073</td>\n",
       "      <td>73588.726663</td>\n",
       "      <td>6.143813e+07</td>\n",
       "      <td>1</td>\n",
       "    </tr>\n",
       "    <tr>\n",
       "      <th>2</th>\n",
       "      <td>512244 (2015 YE18)</td>\n",
       "      <td>2015</td>\n",
       "      <td>0.567461</td>\n",
       "      <td>114258.692129</td>\n",
       "      <td>4.979872e+07</td>\n",
       "      <td>0</td>\n",
       "    </tr>\n",
       "    <tr>\n",
       "      <th>3</th>\n",
       "      <td>(2012 BV13)</td>\n",
       "      <td>2012</td>\n",
       "      <td>0.156150</td>\n",
       "      <td>24764.303138</td>\n",
       "      <td>2.543497e+07</td>\n",
       "      <td>0</td>\n",
       "    </tr>\n",
       "    <tr>\n",
       "      <th>4</th>\n",
       "      <td>(2014 GE35)</td>\n",
       "      <td>2014</td>\n",
       "      <td>0.412613</td>\n",
       "      <td>42737.733765</td>\n",
       "      <td>4.627557e+07</td>\n",
       "      <td>1</td>\n",
       "    </tr>\n",
       "  </tbody>\n",
       "</table>\n",
       "</div>"
      ],
      "text/plain": [
       "\n",
       "                  name  year  diameter_mean  relative_velocity  miss_distance  \\\n",
       "\u001b[1;36m0\u001b[0m  \u001b[1;36m162635\u001b[0m \u001b[1m(\u001b[0m\u001b[1;36m2000\u001b[0m SS164\u001b[1m)\u001b[0m  \u001b[1;36m2000\u001b[0m       \u001b[1;36m0.567461\u001b[0m       \u001b[1;36m13569.249224\u001b[0m   \u001b[1;36m5.483974e+07\u001b[0m   \n",
       "\u001b[1;36m1\u001b[0m    \u001b[1;36m277475\u001b[0m \u001b[1m(\u001b[0m\u001b[1;36m2005\u001b[0m WK4\u001b[1m)\u001b[0m  \u001b[1;36m2005\u001b[0m       \u001b[1;36m0.430073\u001b[0m       \u001b[1;36m73588.726663\u001b[0m   \u001b[1;36m6.143813e+07\u001b[0m   \n",
       "\u001b[1;36m2\u001b[0m   \u001b[1;36m512244\u001b[0m \u001b[1m(\u001b[0m\u001b[1;36m2015\u001b[0m YE18\u001b[1m)\u001b[0m  \u001b[1;36m2015\u001b[0m       \u001b[1;36m0.567461\u001b[0m      \u001b[1;36m114258.692129\u001b[0m   \u001b[1;36m4.979872e+07\u001b[0m   \n",
       "\u001b[1;36m3\u001b[0m          \u001b[1m(\u001b[0m\u001b[1;36m2012\u001b[0m BV13\u001b[1m)\u001b[0m  \u001b[1;36m2012\u001b[0m       \u001b[1;36m0.156150\u001b[0m       \u001b[1;36m24764.303138\u001b[0m   \u001b[1;36m2.543497e+07\u001b[0m   \n",
       "\u001b[1;36m4\u001b[0m          \u001b[1m(\u001b[0m\u001b[1;36m2014\u001b[0m GE35\u001b[1m)\u001b[0m  \u001b[1;36m2014\u001b[0m       \u001b[1;36m0.412613\u001b[0m       \u001b[1;36m42737.733765\u001b[0m   \u001b[1;36m4.627557e+07\u001b[0m   \n",
       "\n",
       "   hazardous  \n",
       "\u001b[1;36m0\u001b[0m          \u001b[1;36m0\u001b[0m  \n",
       "\u001b[1;36m1\u001b[0m          \u001b[1;36m1\u001b[0m  \n",
       "\u001b[1;36m2\u001b[0m          \u001b[1;36m0\u001b[0m  \n",
       "\u001b[1;36m3\u001b[0m          \u001b[1;36m0\u001b[0m  \n",
       "\u001b[1;36m4\u001b[0m          \u001b[1;36m1\u001b[0m  "
      ]
     },
     "metadata": {},
     "output_type": "display_data"
    }
   ],
   "source": [
    "import re\n",
    "\n",
    "def extract_year_from_name(s):\n",
    "    if pd.isna(s):\n",
    "        return pd.NA\n",
    "    m = re.search(r'((19|20)\\d{2})', str(s))\n",
    "    return int(m.group(1)) if m else pd.NA\n",
    "\n",
    "n[\"year\"] = n[\"name\"].apply(extract_year_from_name).astype(\"Int64\")\n",
    "\n",
    "\n",
    "year_coverage = n[\"year\"].notna().mean()*100\n",
    "print(f\"Cobertura de 'year' extraído en NEO: {year_coverage:.1f}%\")\n",
    "\n",
    "\n",
    "if \"diameter_mean\" not in n.columns:\n",
    "    n[\"diameter_mean\"] = (pd.to_numeric(n[\"est_diameter_min\"], errors=\"coerce\") +\n",
    "                          pd.to_numeric(n[\"est_diameter_max\"], errors=\"coerce\")) / 2\n",
    "\n",
    "for c in [\"relative_velocity\",\"miss_distance\",\"absolute_magnitude\",\"diameter_mean\",\n",
    "          \"est_diameter_min\",\"est_diameter_max\"]:\n",
    "    n[c] = pd.to_numeric(n[c], errors=\"coerce\")\n",
    "\n",
    "\n",
    "n[\"log_velocity\"] = np.log1p(n[\"relative_velocity\"])\n",
    "n[\"log_miss_distance\"] = np.log1p(n[\"miss_distance\"])\n",
    "\n",
    "\n",
    "for c in [\"hazardous\",\"sentry_object\"]:\n",
    "    if c in n.columns and n[c].dtype != \"int64\" and n[c].dtype != \"Int64\":\n",
    "        n[c] = n[c].astype(int)\n",
    "\n",
    "display(n[[\"name\",\"year\",\"diameter_mean\",\"relative_velocity\",\"miss_distance\",\"hazardous\"]].head(5))\n"
   ]
  },
  {
   "cell_type": "code",
   "execution_count": 70,
   "id": "15265bfb-eb1e-44a7-b6c4-a0b59f0f4ff9",
   "metadata": {},
   "outputs": [
    {
     "name": "stdout",
     "output_type": "stream",
     "text": [
      "(252, 6)\n"
     ]
    },
    {
     "data": {
      "text/html": [
       "<pre style=\"white-space:pre;overflow-x:auto;line-height:normal;font-family:Menlo,'DejaVu Sans Mono',consolas,'Courier New',monospace\"></pre>\n"
      ],
      "text/plain": []
     },
     "metadata": {},
     "output_type": "display_data"
    },
    {
     "data": {
      "text/html": [
       "<div>\n",
       "<style scoped>\n",
       "    .dataframe tbody tr th:only-of-type {\n",
       "        vertical-align: middle;\n",
       "    }\n",
       "\n",
       "    .dataframe tbody tr th {\n",
       "        vertical-align: top;\n",
       "    }\n",
       "\n",
       "    .dataframe thead th {\n",
       "        text-align: right;\n",
       "    }\n",
       "</style>\n",
       "<table border=\"1\" class=\"dataframe\">\n",
       "  <thead>\n",
       "    <tr style=\"text-align: right;\">\n",
       "      <th></th>\n",
       "      <th>year</th>\n",
       "      <th>met_count</th>\n",
       "      <th>met_mass_mean</th>\n",
       "      <th>met_mass_median</th>\n",
       "      <th>met_fell_count</th>\n",
       "      <th>met_fell_ratio</th>\n",
       "    </tr>\n",
       "  </thead>\n",
       "  <tbody>\n",
       "    <tr>\n",
       "      <th>0</th>\n",
       "      <td>860</td>\n",
       "      <td>1</td>\n",
       "      <td>472.0</td>\n",
       "      <td>472.0</td>\n",
       "      <td>1</td>\n",
       "      <td>1.0</td>\n",
       "    </tr>\n",
       "    <tr>\n",
       "      <th>1</th>\n",
       "      <td>1399</td>\n",
       "      <td>1</td>\n",
       "      <td>107000.0</td>\n",
       "      <td>107000.0</td>\n",
       "      <td>1</td>\n",
       "      <td>1.0</td>\n",
       "    </tr>\n",
       "    <tr>\n",
       "      <th>2</th>\n",
       "      <td>1490</td>\n",
       "      <td>1</td>\n",
       "      <td>103.3</td>\n",
       "      <td>103.3</td>\n",
       "      <td>1</td>\n",
       "      <td>1.0</td>\n",
       "    </tr>\n",
       "    <tr>\n",
       "      <th>3</th>\n",
       "      <td>1491</td>\n",
       "      <td>1</td>\n",
       "      <td>127000.0</td>\n",
       "      <td>127000.0</td>\n",
       "      <td>1</td>\n",
       "      <td>1.0</td>\n",
       "    </tr>\n",
       "    <tr>\n",
       "      <th>4</th>\n",
       "      <td>1575</td>\n",
       "      <td>1</td>\n",
       "      <td>50000000.0</td>\n",
       "      <td>50000000.0</td>\n",
       "      <td>0</td>\n",
       "      <td>0.0</td>\n",
       "    </tr>\n",
       "  </tbody>\n",
       "</table>\n",
       "</div>"
      ],
      "text/plain": [
       "\n",
       "   year  met_count  met_mass_mean  met_mass_median  met_fell_count  \\\n",
       "\u001b[1;36m0\u001b[0m   \u001b[1;36m860\u001b[0m          \u001b[1;36m1\u001b[0m          \u001b[1;36m472.0\u001b[0m            \u001b[1;36m472.0\u001b[0m               \u001b[1;36m1\u001b[0m   \n",
       "\u001b[1;36m1\u001b[0m  \u001b[1;36m1399\u001b[0m          \u001b[1;36m1\u001b[0m       \u001b[1;36m107000.0\u001b[0m         \u001b[1;36m107000.0\u001b[0m               \u001b[1;36m1\u001b[0m   \n",
       "\u001b[1;36m2\u001b[0m  \u001b[1;36m1490\u001b[0m          \u001b[1;36m1\u001b[0m          \u001b[1;36m103.3\u001b[0m            \u001b[1;36m103.3\u001b[0m               \u001b[1;36m1\u001b[0m   \n",
       "\u001b[1;36m3\u001b[0m  \u001b[1;36m1491\u001b[0m          \u001b[1;36m1\u001b[0m       \u001b[1;36m127000.0\u001b[0m         \u001b[1;36m127000.0\u001b[0m               \u001b[1;36m1\u001b[0m   \n",
       "\u001b[1;36m4\u001b[0m  \u001b[1;36m1575\u001b[0m          \u001b[1;36m1\u001b[0m     \u001b[1;36m50000000.0\u001b[0m       \u001b[1;36m50000000.0\u001b[0m               \u001b[1;36m0\u001b[0m   \n",
       "\n",
       "   met_fell_ratio  \n",
       "\u001b[1;36m0\u001b[0m             \u001b[1;36m1.0\u001b[0m  \n",
       "\u001b[1;36m1\u001b[0m             \u001b[1;36m1.0\u001b[0m  \n",
       "\u001b[1;36m2\u001b[0m             \u001b[1;36m1.0\u001b[0m  \n",
       "\u001b[1;36m3\u001b[0m             \u001b[1;36m1.0\u001b[0m  \n",
       "\u001b[1;36m4\u001b[0m             \u001b[1;36m0.0\u001b[0m  "
      ]
     },
     "metadata": {},
     "output_type": "display_data"
    }
   ],
   "source": [
    "\n",
    "m_year = m.dropna(subset=[\"year\"]).copy()\n",
    "m_year[\"year\"] = m_year[\"year\"].astype(\"Int64\")\n",
    "\n",
    "\n",
    "m_year[\"fell_flag\"] = (m_year[\"fall\"].astype(str).str.lower() == \"fell\").astype(int)\n",
    "\n",
    "\n",
    "agg = (m_year\n",
    "       .groupby(\"year\", as_index=False)\n",
    "       .agg(\n",
    "           met_count = (\"name\",\"count\"),\n",
    "           met_mass_mean = (\"mass\",\"mean\"),\n",
    "           met_mass_median = (\"mass\",\"median\"),\n",
    "           met_fell_count = (\"fell_flag\",\"sum\")\n",
    "       ))\n",
    "\n",
    "\n",
    "agg[\"met_fell_ratio\"] = agg[\"met_fell_count\"] / agg[\"met_count\"]\n",
    "\n",
    "print(agg.shape)\n",
    "display(agg.head())\n"
   ]
  },
  {
   "cell_type": "code",
   "execution_count": 71,
   "id": "67f74fe0-4500-4943-b552-ccb498a2730d",
   "metadata": {},
   "outputs": [
    {
     "name": "stdout",
     "output_type": "stream",
     "text": [
      "(27423, 19)\n"
     ]
    },
    {
     "data": {
      "text/html": [
       "<pre style=\"white-space:pre;overflow-x:auto;line-height:normal;font-family:Menlo,'DejaVu Sans Mono',consolas,'Courier New',monospace\"></pre>\n"
      ],
      "text/plain": []
     },
     "metadata": {},
     "output_type": "display_data"
    },
    {
     "data": {
      "text/html": [
       "<div>\n",
       "<style scoped>\n",
       "    .dataframe tbody tr th:only-of-type {\n",
       "        vertical-align: middle;\n",
       "    }\n",
       "\n",
       "    .dataframe tbody tr th {\n",
       "        vertical-align: top;\n",
       "    }\n",
       "\n",
       "    .dataframe thead th {\n",
       "        text-align: right;\n",
       "    }\n",
       "</style>\n",
       "<table border=\"1\" class=\"dataframe\">\n",
       "  <thead>\n",
       "    <tr style=\"text-align: right;\">\n",
       "      <th></th>\n",
       "      <th>name</th>\n",
       "      <th>year</th>\n",
       "      <th>met_count</th>\n",
       "      <th>met_mass_mean</th>\n",
       "      <th>met_fell_ratio</th>\n",
       "    </tr>\n",
       "  </thead>\n",
       "  <tbody>\n",
       "    <tr>\n",
       "      <th>0</th>\n",
       "      <td>162635 (2000 SS164)</td>\n",
       "      <td>2000</td>\n",
       "      <td>1502</td>\n",
       "      <td>1965.472752</td>\n",
       "      <td>0.001997</td>\n",
       "    </tr>\n",
       "    <tr>\n",
       "      <th>1</th>\n",
       "      <td>277475 (2005 WK4)</td>\n",
       "      <td>2005</td>\n",
       "      <td>327</td>\n",
       "      <td>2541.518899</td>\n",
       "      <td>0.000000</td>\n",
       "    </tr>\n",
       "    <tr>\n",
       "      <th>2</th>\n",
       "      <td>512244 (2015 YE18)</td>\n",
       "      <td>2015</td>\n",
       "      <td>0</td>\n",
       "      <td>NaN</td>\n",
       "      <td>0.000000</td>\n",
       "    </tr>\n",
       "    <tr>\n",
       "      <th>3</th>\n",
       "      <td>(2012 BV13)</td>\n",
       "      <td>2012</td>\n",
       "      <td>233</td>\n",
       "      <td>996.642403</td>\n",
       "      <td>0.008584</td>\n",
       "    </tr>\n",
       "    <tr>\n",
       "      <th>4</th>\n",
       "      <td>(2014 GE35)</td>\n",
       "      <td>2014</td>\n",
       "      <td>0</td>\n",
       "      <td>NaN</td>\n",
       "      <td>0.000000</td>\n",
       "    </tr>\n",
       "    <tr>\n",
       "      <th>5</th>\n",
       "      <td>(2021 GY23)</td>\n",
       "      <td>2021</td>\n",
       "      <td>0</td>\n",
       "      <td>NaN</td>\n",
       "      <td>0.000000</td>\n",
       "    </tr>\n",
       "    <tr>\n",
       "      <th>6</th>\n",
       "      <td>(2021 PY40)</td>\n",
       "      <td>2021</td>\n",
       "      <td>0</td>\n",
       "      <td>NaN</td>\n",
       "      <td>0.000000</td>\n",
       "    </tr>\n",
       "    <tr>\n",
       "      <th>7</th>\n",
       "      <td>(2021 XD6)</td>\n",
       "      <td>2021</td>\n",
       "      <td>0</td>\n",
       "      <td>NaN</td>\n",
       "      <td>0.000000</td>\n",
       "    </tr>\n",
       "    <tr>\n",
       "      <th>8</th>\n",
       "      <td>88213 (2001 AF2)</td>\n",
       "      <td>2001</td>\n",
       "      <td>1339</td>\n",
       "      <td>701.111613</td>\n",
       "      <td>0.003734</td>\n",
       "    </tr>\n",
       "    <tr>\n",
       "      <th>9</th>\n",
       "      <td>(2016 YM)</td>\n",
       "      <td>2016</td>\n",
       "      <td>0</td>\n",
       "      <td>NaN</td>\n",
       "      <td>0.000000</td>\n",
       "    </tr>\n",
       "  </tbody>\n",
       "</table>\n",
       "</div>"
      ],
      "text/plain": [
       "\n",
       "                  name  year  met_count  met_mass_mean  met_fell_ratio\n",
       "\u001b[1;36m0\u001b[0m  \u001b[1;36m162635\u001b[0m \u001b[1m(\u001b[0m\u001b[1;36m2000\u001b[0m SS164\u001b[1m)\u001b[0m  \u001b[1;36m2000\u001b[0m       \u001b[1;36m1502\u001b[0m    \u001b[1;36m1965.472752\u001b[0m        \u001b[1;36m0.001997\u001b[0m\n",
       "\u001b[1;36m1\u001b[0m    \u001b[1;36m277475\u001b[0m \u001b[1m(\u001b[0m\u001b[1;36m2005\u001b[0m WK4\u001b[1m)\u001b[0m  \u001b[1;36m2005\u001b[0m        \u001b[1;36m327\u001b[0m    \u001b[1;36m2541.518899\u001b[0m        \u001b[1;36m0.000000\u001b[0m\n",
       "\u001b[1;36m2\u001b[0m   \u001b[1;36m512244\u001b[0m \u001b[1m(\u001b[0m\u001b[1;36m2015\u001b[0m YE18\u001b[1m)\u001b[0m  \u001b[1;36m2015\u001b[0m          \u001b[1;36m0\u001b[0m            NaN        \u001b[1;36m0.000000\u001b[0m\n",
       "\u001b[1;36m3\u001b[0m          \u001b[1m(\u001b[0m\u001b[1;36m2012\u001b[0m BV13\u001b[1m)\u001b[0m  \u001b[1;36m2012\u001b[0m        \u001b[1;36m233\u001b[0m     \u001b[1;36m996.642403\u001b[0m        \u001b[1;36m0.008584\u001b[0m\n",
       "\u001b[1;36m4\u001b[0m          \u001b[1m(\u001b[0m\u001b[1;36m2014\u001b[0m GE35\u001b[1m)\u001b[0m  \u001b[1;36m2014\u001b[0m          \u001b[1;36m0\u001b[0m            NaN        \u001b[1;36m0.000000\u001b[0m\n",
       "\u001b[1;36m5\u001b[0m          \u001b[1m(\u001b[0m\u001b[1;36m2021\u001b[0m GY23\u001b[1m)\u001b[0m  \u001b[1;36m2021\u001b[0m          \u001b[1;36m0\u001b[0m            NaN        \u001b[1;36m0.000000\u001b[0m\n",
       "\u001b[1;36m6\u001b[0m          \u001b[1m(\u001b[0m\u001b[1;36m2021\u001b[0m PY40\u001b[1m)\u001b[0m  \u001b[1;36m2021\u001b[0m          \u001b[1;36m0\u001b[0m            NaN        \u001b[1;36m0.000000\u001b[0m\n",
       "\u001b[1;36m7\u001b[0m           \u001b[1m(\u001b[0m\u001b[1;36m2021\u001b[0m XD6\u001b[1m)\u001b[0m  \u001b[1;36m2021\u001b[0m          \u001b[1;36m0\u001b[0m            NaN        \u001b[1;36m0.000000\u001b[0m\n",
       "\u001b[1;36m8\u001b[0m     \u001b[1;36m88213\u001b[0m \u001b[1m(\u001b[0m\u001b[1;36m2001\u001b[0m AF2\u001b[1m)\u001b[0m  \u001b[1;36m2001\u001b[0m       \u001b[1;36m1339\u001b[0m     \u001b[1;36m701.111613\u001b[0m        \u001b[1;36m0.003734\u001b[0m\n",
       "\u001b[1;36m9\u001b[0m            \u001b[1m(\u001b[0m\u001b[1;36m2016\u001b[0m YM\u001b[1m)\u001b[0m  \u001b[1;36m2016\u001b[0m          \u001b[1;36m0\u001b[0m            NaN        \u001b[1;36m0.000000\u001b[0m"
      ]
     },
     "metadata": {},
     "output_type": "display_data"
    }
   ],
   "source": [
    "# left join con el year :)\n",
    "unified = n.merge(agg, on=\"year\", how=\"left\")\n",
    "\n",
    "for c in [\"met_count\",\"met_fell_count\"]:\n",
    "    unified[c] = unified[c].fillna(0).astype(int)\n",
    "\n",
    "for c in [\"met_fell_ratio\"]:\n",
    "    unified[c] = unified[c].fillna(0.0)\n",
    "\n",
    "\n",
    "for c in [\"met_mass_mean\",\"met_mass_median\"]:\n",
    "    unified[c] = unified[c].astype(\"float64\")\n",
    "\n",
    "print(unified.shape)\n",
    "display(unified[[\"name\",\"year\",\"met_count\",\"met_mass_mean\",\"met_fell_ratio\"]].head(10))\n",
    "\n"
   ]
  },
  {
   "cell_type": "code",
   "execution_count": 72,
   "id": "70020568-7822-4868-9b46-fd109196088e",
   "metadata": {},
   "outputs": [],
   "source": [
    "#reemplazo los nulos por cero (0) \n",
    "for c in [\"met_count\", \"met_fell_count\", \"met_fell_ratio\"]:\n",
    "    unified[c] = unified[c].fillna(0).astype(float)\n",
    "\n"
   ]
  },
  {
   "cell_type": "code",
   "execution_count": 73,
   "id": "e3123654-b2d4-4476-acdc-445b57fe30df",
   "metadata": {},
   "outputs": [
    {
     "data": {
      "text/html": [
       "<pre style=\"white-space:pre;overflow-x:auto;line-height:normal;font-family:Menlo,'DejaVu Sans Mono',consolas,'Courier New',monospace\"><span style=\"color: #7fbfbf; text-decoration-color: #7fbfbf\">[09/14/25 21:34:12] </span><span style=\"color: #000080; text-decoration-color: #000080\">INFO    </span> Saving data to <span style=\"color: #ff8700; text-decoration-color: #ff8700\">model_input_table</span> <span style=\"font-weight: bold\">(</span>ParquetDataset<span style=\"font-weight: bold\">)</span><span style=\"color: #808000; text-decoration-color: #808000\">...</span>               <a href=\"file://C:\\ML\\spaceflights\\.venv\\Lib\\site-packages\\kedro\\io\\data_catalog.py\" target=\"_blank\"><span style=\"color: #7f7f7f; text-decoration-color: #7f7f7f\">data_catalog.py</span></a><span style=\"color: #7f7f7f; text-decoration-color: #7f7f7f\">:</span><a href=\"file://C:\\ML\\spaceflights\\.venv\\Lib\\site-packages\\kedro\\io\\data_catalog.py#445\" target=\"_blank\"><span style=\"color: #7f7f7f; text-decoration-color: #7f7f7f\">445</span></a>\n",
       "</pre>\n"
      ],
      "text/plain": [
       "\u001b[2;36m[09/14/25 21:34:12]\u001b[0m\u001b[2;36m \u001b[0m\u001b[34mINFO    \u001b[0m Saving data to \u001b[38;5;208mmodel_input_table\u001b[0m \u001b[1m(\u001b[0mParquetDataset\u001b[1m)\u001b[0m\u001b[33m...\u001b[0m               \u001b]8;id=519672;file://C:\\ML\\spaceflights\\.venv\\Lib\\site-packages\\kedro\\io\\data_catalog.py\u001b\\\u001b[2mdata_catalog.py\u001b[0m\u001b]8;;\u001b\\\u001b[2m:\u001b[0m\u001b]8;id=187557;file://C:\\ML\\spaceflights\\.venv\\Lib\\site-packages\\kedro\\io\\data_catalog.py#445\u001b\\\u001b[2m445\u001b[0m\u001b]8;;\u001b\\\n"
      ]
     },
     "metadata": {},
     "output_type": "display_data"
    },
    {
     "data": {
      "text/html": [
       "<pre style=\"white-space:pre;overflow-x:auto;line-height:normal;font-family:Menlo,'DejaVu Sans Mono',consolas,'Courier New',monospace\"><span style=\"color: #7fbfbf; text-decoration-color: #7fbfbf\">                    </span><span style=\"color: #000080; text-decoration-color: #000080\">INFO    </span> Loading data from <span style=\"color: #ff8700; text-decoration-color: #ff8700\">model_input_table</span> <span style=\"font-weight: bold\">(</span>ParquetDataset<span style=\"font-weight: bold\">)</span><span style=\"color: #808000; text-decoration-color: #808000\">...</span>            <a href=\"file://C:\\ML\\spaceflights\\.venv\\Lib\\site-packages\\kedro\\io\\data_catalog.py\" target=\"_blank\"><span style=\"color: #7f7f7f; text-decoration-color: #7f7f7f\">data_catalog.py</span></a><span style=\"color: #7f7f7f; text-decoration-color: #7f7f7f\">:</span><a href=\"file://C:\\ML\\spaceflights\\.venv\\Lib\\site-packages\\kedro\\io\\data_catalog.py#403\" target=\"_blank\"><span style=\"color: #7f7f7f; text-decoration-color: #7f7f7f\">403</span></a>\n",
       "</pre>\n"
      ],
      "text/plain": [
       "\u001b[2;36m                   \u001b[0m\u001b[2;36m \u001b[0m\u001b[34mINFO    \u001b[0m Loading data from \u001b[38;5;208mmodel_input_table\u001b[0m \u001b[1m(\u001b[0mParquetDataset\u001b[1m)\u001b[0m\u001b[33m...\u001b[0m            \u001b]8;id=806142;file://C:\\ML\\spaceflights\\.venv\\Lib\\site-packages\\kedro\\io\\data_catalog.py\u001b\\\u001b[2mdata_catalog.py\u001b[0m\u001b]8;;\u001b\\\u001b[2m:\u001b[0m\u001b]8;id=855758;file://C:\\ML\\spaceflights\\.venv\\Lib\\site-packages\\kedro\\io\\data_catalog.py#403\u001b\\\u001b[2m403\u001b[0m\u001b]8;;\u001b\\\n"
      ]
     },
     "metadata": {},
     "output_type": "display_data"
    },
    {
     "name": "stdout",
     "output_type": "stream",
     "text": [
      "model_input_table: (27423, 19)\n"
     ]
    },
    {
     "data": {
      "text/html": [
       "<pre style=\"white-space:pre;overflow-x:auto;line-height:normal;font-family:Menlo,'DejaVu Sans Mono',consolas,'Courier New',monospace\"></pre>\n"
      ],
      "text/plain": []
     },
     "metadata": {},
     "output_type": "display_data"
    },
    {
     "data": {
      "text/html": [
       "<div>\n",
       "<style scoped>\n",
       "    .dataframe tbody tr th:only-of-type {\n",
       "        vertical-align: middle;\n",
       "    }\n",
       "\n",
       "    .dataframe tbody tr th {\n",
       "        vertical-align: top;\n",
       "    }\n",
       "\n",
       "    .dataframe thead th {\n",
       "        text-align: right;\n",
       "    }\n",
       "</style>\n",
       "<table border=\"1\" class=\"dataframe\">\n",
       "  <thead>\n",
       "    <tr style=\"text-align: right;\">\n",
       "      <th></th>\n",
       "      <th>id</th>\n",
       "      <th>name</th>\n",
       "      <th>orbiting_body</th>\n",
       "      <th>est_diameter_min</th>\n",
       "      <th>est_diameter_max</th>\n",
       "      <th>diameter_mean</th>\n",
       "      <th>relative_velocity</th>\n",
       "      <th>miss_distance</th>\n",
       "      <th>absolute_magnitude</th>\n",
       "      <th>sentry_object</th>\n",
       "      <th>hazardous</th>\n",
       "      <th>year</th>\n",
       "      <th>log_velocity</th>\n",
       "      <th>log_miss_distance</th>\n",
       "      <th>met_count</th>\n",
       "      <th>met_mass_mean</th>\n",
       "      <th>met_mass_median</th>\n",
       "      <th>met_fell_count</th>\n",
       "      <th>met_fell_ratio</th>\n",
       "    </tr>\n",
       "  </thead>\n",
       "  <tbody>\n",
       "    <tr>\n",
       "      <th>0</th>\n",
       "      <td>2162635</td>\n",
       "      <td>162635 (2000 SS164)</td>\n",
       "      <td>Earth</td>\n",
       "      <td>0.35071</td>\n",
       "      <td>0.784211</td>\n",
       "      <td>0.567461</td>\n",
       "      <td>13569.249224</td>\n",
       "      <td>5.483974e+07</td>\n",
       "      <td>16.73</td>\n",
       "      <td>0</td>\n",
       "      <td>0</td>\n",
       "      <td>2000</td>\n",
       "      <td>9.515635</td>\n",
       "      <td>17.819926</td>\n",
       "      <td>1502.0</td>\n",
       "      <td>1965.472752</td>\n",
       "      <td>73.85</td>\n",
       "      <td>3.0</td>\n",
       "      <td>0.001997</td>\n",
       "    </tr>\n",
       "    <tr>\n",
       "      <th>1</th>\n",
       "      <td>2277475</td>\n",
       "      <td>277475 (2005 WK4)</td>\n",
       "      <td>Earth</td>\n",
       "      <td>0.26580</td>\n",
       "      <td>0.594347</td>\n",
       "      <td>0.430073</td>\n",
       "      <td>73588.726663</td>\n",
       "      <td>6.143813e+07</td>\n",
       "      <td>20.00</td>\n",
       "      <td>0</td>\n",
       "      <td>1</td>\n",
       "      <td>2005</td>\n",
       "      <td>11.206261</td>\n",
       "      <td>17.933541</td>\n",
       "      <td>327.0</td>\n",
       "      <td>2541.518899</td>\n",
       "      <td>225.32</td>\n",
       "      <td>0.0</td>\n",
       "      <td>0.000000</td>\n",
       "    </tr>\n",
       "    <tr>\n",
       "      <th>2</th>\n",
       "      <td>2512244</td>\n",
       "      <td>512244 (2015 YE18)</td>\n",
       "      <td>Earth</td>\n",
       "      <td>0.35071</td>\n",
       "      <td>0.784211</td>\n",
       "      <td>0.567461</td>\n",
       "      <td>114258.692129</td>\n",
       "      <td>4.979872e+07</td>\n",
       "      <td>17.83</td>\n",
       "      <td>0</td>\n",
       "      <td>0</td>\n",
       "      <td>2015</td>\n",
       "      <td>11.646229</td>\n",
       "      <td>17.723500</td>\n",
       "      <td>0.0</td>\n",
       "      <td>NaN</td>\n",
       "      <td>NaN</td>\n",
       "      <td>0.0</td>\n",
       "      <td>0.000000</td>\n",
       "    </tr>\n",
       "  </tbody>\n",
       "</table>\n",
       "</div>"
      ],
      "text/plain": [
       "\n",
       "        id                 name orbiting_body  est_diameter_min  \\\n",
       "\u001b[1;36m0\u001b[0m  \u001b[1;36m2162635\u001b[0m  \u001b[1;36m162635\u001b[0m \u001b[1m(\u001b[0m\u001b[1;36m2000\u001b[0m SS164\u001b[1m)\u001b[0m         Earth           \u001b[1;36m0.35071\u001b[0m   \n",
       "\u001b[1;36m1\u001b[0m  \u001b[1;36m2277475\u001b[0m    \u001b[1;36m277475\u001b[0m \u001b[1m(\u001b[0m\u001b[1;36m2005\u001b[0m WK4\u001b[1m)\u001b[0m         Earth           \u001b[1;36m0.26580\u001b[0m   \n",
       "\u001b[1;36m2\u001b[0m  \u001b[1;36m2512244\u001b[0m   \u001b[1;36m512244\u001b[0m \u001b[1m(\u001b[0m\u001b[1;36m2015\u001b[0m YE18\u001b[1m)\u001b[0m         Earth           \u001b[1;36m0.35071\u001b[0m   \n",
       "\n",
       "   est_diameter_max  diameter_mean  relative_velocity  miss_distance  \\\n",
       "\u001b[1;36m0\u001b[0m          \u001b[1;36m0.784211\u001b[0m       \u001b[1;36m0.567461\u001b[0m       \u001b[1;36m13569.249224\u001b[0m   \u001b[1;36m5.483974e+07\u001b[0m   \n",
       "\u001b[1;36m1\u001b[0m          \u001b[1;36m0.594347\u001b[0m       \u001b[1;36m0.430073\u001b[0m       \u001b[1;36m73588.726663\u001b[0m   \u001b[1;36m6.143813e+07\u001b[0m   \n",
       "\u001b[1;36m2\u001b[0m          \u001b[1;36m0.784211\u001b[0m       \u001b[1;36m0.567461\u001b[0m      \u001b[1;36m114258.692129\u001b[0m   \u001b[1;36m4.979872e+07\u001b[0m   \n",
       "\n",
       "   absolute_magnitude  sentry_object  hazardous  year  log_velocity  \\\n",
       "\u001b[1;36m0\u001b[0m               \u001b[1;36m16.73\u001b[0m              \u001b[1;36m0\u001b[0m          \u001b[1;36m0\u001b[0m  \u001b[1;36m2000\u001b[0m      \u001b[1;36m9.515635\u001b[0m   \n",
       "\u001b[1;36m1\u001b[0m               \u001b[1;36m20.00\u001b[0m              \u001b[1;36m0\u001b[0m          \u001b[1;36m1\u001b[0m  \u001b[1;36m2005\u001b[0m     \u001b[1;36m11.206261\u001b[0m   \n",
       "\u001b[1;36m2\u001b[0m               \u001b[1;36m17.83\u001b[0m              \u001b[1;36m0\u001b[0m          \u001b[1;36m0\u001b[0m  \u001b[1;36m2015\u001b[0m     \u001b[1;36m11.646229\u001b[0m   \n",
       "\n",
       "   log_miss_distance  met_count  met_mass_mean  met_mass_median  \\\n",
       "\u001b[1;36m0\u001b[0m          \u001b[1;36m17.819926\u001b[0m     \u001b[1;36m1502.0\u001b[0m    \u001b[1;36m1965.472752\u001b[0m            \u001b[1;36m73.85\u001b[0m   \n",
       "\u001b[1;36m1\u001b[0m          \u001b[1;36m17.933541\u001b[0m      \u001b[1;36m327.0\u001b[0m    \u001b[1;36m2541.518899\u001b[0m           \u001b[1;36m225.32\u001b[0m   \n",
       "\u001b[1;36m2\u001b[0m          \u001b[1;36m17.723500\u001b[0m        \u001b[1;36m0.0\u001b[0m            NaN              NaN   \n",
       "\n",
       "   met_fell_count  met_fell_ratio  \n",
       "\u001b[1;36m0\u001b[0m             \u001b[1;36m3.0\u001b[0m        \u001b[1;36m0.001997\u001b[0m  \n",
       "\u001b[1;36m1\u001b[0m             \u001b[1;36m0.0\u001b[0m        \u001b[1;36m0.000000\u001b[0m  \n",
       "\u001b[1;36m2\u001b[0m             \u001b[1;36m0.0\u001b[0m        \u001b[1;36m0.000000\u001b[0m  "
      ]
     },
     "metadata": {},
     "output_type": "display_data"
    }
   ],
   "source": [
    "catalog.save(\"model_input_table\", unified)\n",
    "\n",
    "df_model = catalog.load(\"model_input_table\")\n",
    "print(\"model_input_table:\", df_model.shape)\n",
    "display(df_model.head(3))\n"
   ]
  },
  {
   "cell_type": "code",
   "execution_count": null,
   "id": "0e09da96-adcf-4b1b-aef8-fe188fabfea6",
   "metadata": {},
   "outputs": [],
   "source": []
  }
 ],
 "metadata": {
  "kernelspec": {
   "display_name": "Python 3 (ipykernel)",
   "language": "python",
   "name": "python3"
  },
  "language_info": {
   "codemirror_mode": {
    "name": "ipython",
    "version": 3
   },
   "file_extension": ".py",
   "mimetype": "text/x-python",
   "name": "python",
   "nbconvert_exporter": "python",
   "pygments_lexer": "ipython3",
   "version": "3.13.3"
  }
 },
 "nbformat": 4,
 "nbformat_minor": 5
}
