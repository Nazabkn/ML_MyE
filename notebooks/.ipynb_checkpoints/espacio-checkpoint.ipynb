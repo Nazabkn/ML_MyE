{
 "cells": [
  {
   "cell_type": "code",
   "execution_count": 2,
   "id": "107a8c4c",
   "metadata": {},
   "outputs": [
    {
     "name": "stdout",
     "output_type": "stream",
     "text": [
      "Funcionando\n"
     ]
    }
   ],
   "source": [
    "import pandas as pd\n",
    "print(\"Funcionando\")\n"
   ]
  },
  {
   "cell_type": "code",
   "execution_count": 6,
   "id": "cdcd1700",
   "metadata": {},
   "outputs": [
    {
     "name": "stdout",
     "output_type": "stream",
     "text": [
      "c:\\Users\\nazar\\OneDrive\\Documentos\\M_L\\Machine_Learning\\spaceflights\\notebooks\n"
     ]
    }
   ],
   "source": [
    "import os\n",
    "print(os.getcwd())"
   ]
  },
  {
   "cell_type": "code",
   "execution_count": null,
   "id": "091ade38",
   "metadata": {},
   "outputs": [],
   "source": [
    "import pandas as pd\n",
    "df_aster = pd.read_csv(\"C:\\\\Users\\\\nazar\\\\OneDrive\\\\Documentos\\\\M_L\\\\Machine_Learning\\\\spaceflights\\\\data\\\\01_raw\\\\neo.csv\")\n",
    "df_aster = pd.read_csv(\"C:\\\\Users\\\\nazar\\\\OneDrive\\\\Documentos\\\\M_L\\\\Machine_Learning\\\\spaceflights\\\\data\\\\01_raw\\\\neo_v2.csv\")\n",
    "df_mete = pd.read_csv(\"C:\\\\Users\\\\nazar\\\\OneDrive\\\\Documentos\\\\M_L\\\\Machine_Learning\\\\spaceflights\\\\data\\\\01_raw\\\\meteorite-landings.csv\")"
   ]
  },
  {
   "cell_type": "code",
   "execution_count": null,
   "id": "990f2887",
   "metadata": {},
   "outputs": [],
   "source": [
    "df_aster.to_parquet(\n",
    "    \"C:\\\\Users\\\\nazar\\\\OneDrive\\\\Documentos\\\\M_L\\\\Machine_Learning\\\\spaceflights\\\\data\\\\01_raw\\\\neo.parquet\",\n",
    "    index=False,\n",
    "    engine=\"fastparquet\"\n",
    ")\n",
    "df_aster.to_parquet(\n",
    "    \"C:\\\\Users\\\\nazar\\\\OneDrive\\\\Documentos\\\\M_L\\\\Machine_Learning\\\\spaceflights\\\\data\\\\01_raw\\\\neo_v2.parquet\",\n",
    "    index=False,\n",
    "    engine=\"fastparquet\"\n",
    ")\n",
    "df_mete.to_parquet(\n",
    "    \"C:\\\\Users\\\\nazar\\\\OneDrive\\\\Documentos\\\\M_L\\\\Machine_Learning\\\\spaceflights\\\\data\\\\01_raw\\\\meteorite-landings.parquet\",\n",
    "    index=False,\n",
    "    engine=\"fastparquet\"\n",
    ")"
   ]
  },
  {
   "cell_type": "code",
   "execution_count": null,
   "id": "907a3d98",
   "metadata": {},
   "outputs": [],
   "source": [
    "df_aster = pd.read_parquet(\n",
    "    r\"C:\\Users\\nazar\\OneDrive\\Documentos\\M_L\\Machine_Learning\\spaceflights\\data\\01_raw\\neo.parquet\",\n",
    "    engine=\"fastparquet\"\n",
    ")\n"
   ]
  },
  {
   "cell_type": "code",
   "execution_count": 24,
   "id": "1f804188",
   "metadata": {},
   "outputs": [
    {
     "name": "stdout",
     "output_type": "stream",
     "text": [
      "        id                 name  est_diameter_min  est_diameter_max  \\\n",
      "0  2162635  162635 (2000 SS164)          1.198271          2.679415   \n",
      "1  2277475    277475 (2005 WK4)          0.265800          0.594347   \n",
      "2  2512244   512244 (2015 YE18)          0.722030          1.614507   \n",
      "3  3596030          (2012 BV13)          0.096506          0.215794   \n",
      "4  3667127          (2014 GE35)          0.255009          0.570217   \n",
      "\n",
      "   relative_velocity  miss_distance orbiting_body  sentry_object  \\\n",
      "0       13569.249224   5.483974e+07         Earth          False   \n",
      "1       73588.726663   6.143813e+07         Earth          False   \n",
      "2      114258.692129   4.979872e+07         Earth          False   \n",
      "3       24764.303138   2.543497e+07         Earth          False   \n",
      "4       42737.733765   4.627557e+07         Earth          False   \n",
      "\n",
      "   absolute_magnitude  hazardous  \n",
      "0               16.73      False  \n",
      "1               20.00       True  \n",
      "2               17.83      False  \n",
      "3               22.20      False  \n",
      "4               20.09       True  \n"
     ]
    }
   ],
   "source": [
    "print(df_aster.head())  "
   ]
  }
 ],
 "metadata": {
  "kernelspec": {
   "display_name": "Python 3",
   "language": "python",
   "name": "python3"
  },
  "language_info": {
   "codemirror_mode": {
    "name": "ipython",
    "version": 3
   },
   "file_extension": ".py",
   "mimetype": "text/x-python",
   "name": "python",
   "nbconvert_exporter": "python",
   "pygments_lexer": "ipython3",
   "version": "3.13.3"
  }
 },
 "nbformat": 4,
 "nbformat_minor": 5
}
