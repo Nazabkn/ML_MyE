{
 "cells": [
  {
   "cell_type": "code",
   "execution_count": null,
   "id": "40eeb9b9-cbdc-46c5-86cf-1d25bca8163e",
   "metadata": {},
   "outputs": [],
   "source": [
    "# Business Understanding\n",
    "\n",
    "## Objetivo del proyecto\n",
    "El objetivo de este proyecto es analizar datos de meteoritos y objetos cercanos a la Tierra (NEOs), \n",
    "con el fin de entender mejor su comportamiento, características principales y posibles patrones.\n",
    "\n",
    "## Preguntas de investigación\n",
    " ¿Cómo están distribuidos los meteoritos en el tiempo y la geografía?\n",
    " ¿Cuáles son las características más comunes de los objetos cercanos a la Tierra?\n",
    " ¿Existen variables que puedan servir para predecir el tamaño, masa o frecuencia de impacto?\n",
    "\n",
    "## Alcance\n",
    "Este análisis se centrará en los datasets sacados de kaggle de la NASA sobre:\n",
    " Meteorite Landings (meteoritos).\n",
    " Near Earth Objects (NEOs).\n",
    "\n",
    "## Importancia\n",
    "La exploración de estos datos es relevante porque:\n",
    " Permite comprender mejor riesgos potenciales de impactos.\n",
    " Ayuda a visualizar patrones en los datos de asteroides y meteoritos.\n",
    " Sirve como base para aplicar modelos de Machine Learning en etapas posteriores.\n"
   ]
  }
 ],
 "metadata": {
  "kernelspec": {
   "display_name": "Python 3 (ipykernel)",
   "language": "python",
   "name": "python3"
  },
  "language_info": {
   "codemirror_mode": {
    "name": "ipython",
    "version": 3
   },
   "file_extension": ".py",
   "mimetype": "text/x-python",
   "name": "python",
   "nbconvert_exporter": "python",
   "pygments_lexer": "ipython3",
   "version": "3.13.3"
  }
 },
 "nbformat": 4,
 "nbformat_minor": 5
}
