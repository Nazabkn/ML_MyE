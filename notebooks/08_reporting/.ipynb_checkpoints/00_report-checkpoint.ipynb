{
 "cells": [
  {
   "cell_type": "code",
   "execution_count": null,
   "id": "7612c9ed",
   "metadata": {
    "vscode": {
     "languageId": "plaintext"
    }
   },
   "outputs": [],
   "source": [
    "import pandas as pd\n",
    "import matplotlib.pyplot as plt\n",
    "import seaborn as sns\n",
    "\n",
    "#Cargar resultados\n",
    "clf_results = pd.read_csv(\"data/08_reporting/clf_results_table.csv\")\n",
    "roc_curve_df = pd.read_csv(\"data/08_reporting/final_roc_curve.csv\")\n",
    "confusion_df = pd.read_csv(\"data/08_reporting/final_confusion_matrix.csv\")\n",
    "metrics_df = pd.read_csv(\"data/08_reporting/final_eval_metrics.csv\")\n",
    "\n",
    "clf_results.head()"
   ]
  },
  {
   "cell_type": "code",
   "execution_count": null,
   "id": "c0998c49",
   "metadata": {
    "vscode": {
     "languageId": "plaintext"
    }
   },
   "outputs": [],
   "source": [
    "top_n = clf_results.sort_values(\"f1\", ascending=False).head(5)\n",
    "top_n[[\"model\", \"f1\", \"recall\", \"precision\", \"roc_auc\"]]"
   ]
  },
  {
   "cell_type": "code",
   "execution_count": null,
   "id": "5a3b1aec",
   "metadata": {
    "vscode": {
     "languageId": "plaintext"
    }
   },
   "outputs": [],
   "source": [
    "plt.figure(figsize=(5,4))\n",
    "sns.heatmap(confusion_df, annot=True, fmt=\"d\", cmap=\"Blues\")\n",
    "plt.title(\"Matriz de Confusión Final\")\n",
    "plt.xlabel(\"Predicción\")\n",
    "plt.ylabel(\"Valor Real\")\n",
    "plt.show()"
   ]
  },
  {
   "cell_type": "code",
   "execution_count": null,
   "id": "bd549bb1",
   "metadata": {
    "vscode": {
     "languageId": "plaintext"
    }
   },
   "outputs": [],
   "source": [
    "plt.figure(figsize=(6,5))\n",
    "plt.plot(roc_curve_df[\"fpr\"], roc_curve_df[\"tpr\"], label=\"Curva ROC\", color=\"darkorange\")\n",
    "plt.plot([0,1], [0,1], \"k--\", label=\"Aleatorio\")\n",
    "plt.xlabel(\"Falsos Positivos\")\n",
    "plt.ylabel(\"Verdaderos Positivos\")\n",
    "plt.title(\"Curva ROC\")\n",
    "plt.legend()\n",
    "plt.show()"
   ]
  },
  {
   "cell_type": "code",
   "execution_count": null,
   "id": "8a12ea5a",
   "metadata": {
    "vscode": {
     "languageId": "plaintext"
    }
   },
   "outputs": [],
   "source": [
    "metrics_df_melted = metrics_df.melt(\n",
    "    value_vars=[\"f1\", \"recall\", \"precision\", \"roc_auc\"],\n",
    "    var_name=\"Métrica\",\n",
    "    value_name=\"Valor\"\n",
    ")\n",
    "\n",
    "plt.figure(figsize=(7,4))\n",
    "sns.barplot(data=metrics_df_melted, x=\"Métrica\", y=\"Valor\", palette=\"mako\")\n",
    "plt.title(\"Comparativa de Métricas Finales del Modelo\")\n",
    "plt.show()"
   ]
  },
  {
   "cell_type": "code",
   "execution_count": null,
   "id": "f0b5778a",
   "metadata": {
    "vscode": {
     "languageId": "plaintext"
    }
   },
   "outputs": [],
   "source": [
    "metrics_df_melted = metrics_df.melt(\n",
    "    value_vars=[\"f1\", \"recall\", \"precision\", \"roc_auc\"],\n",
    "    var_name=\"Métrica\",\n",
    "    value_name=\"Valor\"\n",
    ")\n",
    "\n",
    "plt.figure(figsize=(7,4))\n",
    "sns.barplot(data=metrics_df_melted, x=\"Métrica\", y=\"Valor\", palette=\"mako\")\n",
    "plt.title(\"Comparativa de Métricas Finales del Modelo\")\n",
    "plt.show()"
   ]
  }
 ],
 "metadata": {
  "language_info": {
   "name": "python"
  }
 },
 "nbformat": 4,
 "nbformat_minor": 5
}
